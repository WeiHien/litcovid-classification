{
 "cells": [
  {
   "cell_type": "markdown",
   "metadata": {},
   "source": [
    "# ML Assignment - LitCovid"
   ]
  },
  {
   "cell_type": "markdown",
   "metadata": {},
   "source": [
    "## 1. Load Data"
   ]
  },
  {
   "cell_type": "markdown",
   "metadata": {},
   "source": [
    "Load the basic Python libraries for data processing"
   ]
  },
  {
   "cell_type": "code",
   "execution_count": 1,
   "metadata": {},
   "outputs": [],
   "source": [
    "import pandas as pd\n",
    "import numpy as np"
   ]
  },
  {
   "cell_type": "markdown",
   "metadata": {},
   "source": [
    "Merge the provided train, test and dev sets to obtain the full dataset"
   ]
  },
  {
   "cell_type": "code",
   "execution_count": 2,
   "metadata": {},
   "outputs": [
    {
     "data": {
      "text/html": [
       "<div>\n",
       "<style scoped>\n",
       "    .dataframe tbody tr th:only-of-type {\n",
       "        vertical-align: middle;\n",
       "    }\n",
       "\n",
       "    .dataframe tbody tr th {\n",
       "        vertical-align: top;\n",
       "    }\n",
       "\n",
       "    .dataframe thead th {\n",
       "        text-align: right;\n",
       "    }\n",
       "</style>\n",
       "<table border=\"1\" class=\"dataframe\">\n",
       "  <thead>\n",
       "    <tr style=\"text-align: right;\">\n",
       "      <th></th>\n",
       "      <th>Unnamed: 0</th>\n",
       "      <th>pmid</th>\n",
       "      <th>title</th>\n",
       "      <th>text</th>\n",
       "      <th>clean_doc</th>\n",
       "      <th>clean_doc_tokenized</th>\n",
       "      <th>human_label</th>\n",
       "      <th>label</th>\n",
       "    </tr>\n",
       "  </thead>\n",
       "  <tbody>\n",
       "    <tr>\n",
       "      <th>0</th>\n",
       "      <td>0</td>\n",
       "      <td>32574291</td>\n",
       "      <td>The Battle Against COVID-19 in Jordan: An Earl...</td>\n",
       "      <td>The Battle Against COVID-19 in Jordan: An Earl...</td>\n",
       "      <td>the battle against covid-19 in jordan : an ear...</td>\n",
       "      <td>[['the', 'battle', 'against', 'covid-19', 'in'...</td>\n",
       "      <td>prevention</td>\n",
       "      <td>1000</td>\n",
       "    </tr>\n",
       "    <tr>\n",
       "      <th>1</th>\n",
       "      <td>1</td>\n",
       "      <td>32409107</td>\n",
       "      <td>Resumption of activity in gastroenterology dep...</td>\n",
       "      <td>Restablecimiento de la actividad en los servic...</td>\n",
       "      <td>restablecimiento de la actividad en los servic...</td>\n",
       "      <td>[['restablecimiento', 'de', 'la', 'actividad',...</td>\n",
       "      <td>prevention</td>\n",
       "      <td>1000</td>\n",
       "    </tr>\n",
       "    <tr>\n",
       "      <th>2</th>\n",
       "      <td>2</td>\n",
       "      <td>32432804</td>\n",
       "      <td>Impact of severe acute respiratory syndrome on...</td>\n",
       "      <td>Impact of Severe Acute Respiratory Syndrome (S...</td>\n",
       "      <td>impact of severe acute respiratory syndrome ( ...</td>\n",
       "      <td>[['impact', 'of', 'severe', 'acute', 'respirat...</td>\n",
       "      <td>prevention</td>\n",
       "      <td>1000</td>\n",
       "    </tr>\n",
       "    <tr>\n",
       "      <th>3</th>\n",
       "      <td>3</td>\n",
       "      <td>32637365</td>\n",
       "      <td>Participation of the IL-10RB Related Cytokines...</td>\n",
       "      <td>Participation of the IL-10RB Related Cytokines...</td>\n",
       "      <td>participation of the il-10rb related cytokines...</td>\n",
       "      <td>[['participation', 'of', 'the', 'il-10rb', 're...</td>\n",
       "      <td>treatment, mechanism</td>\n",
       "      <td>1100000</td>\n",
       "    </tr>\n",
       "    <tr>\n",
       "      <th>4</th>\n",
       "      <td>4</td>\n",
       "      <td>32061198</td>\n",
       "      <td>[Inhibitors of RAS Might Be a Good Choice for ...</td>\n",
       "      <td>[Inhibitors of RAS Might Be a Good Choice for ...</td>\n",
       "      <td>[ inhibitors of ras might be a good choice for...</td>\n",
       "      <td>[['[', 'inhibitors', 'of', 'ras', 'might', 'be...</td>\n",
       "      <td>treatment, mechanism</td>\n",
       "      <td>1100000</td>\n",
       "    </tr>\n",
       "  </tbody>\n",
       "</table>\n",
       "</div>"
      ],
      "text/plain": [
       "   Unnamed: 0      pmid                                              title  \\\n",
       "0           0  32574291  The Battle Against COVID-19 in Jordan: An Earl...   \n",
       "1           1  32409107  Resumption of activity in gastroenterology dep...   \n",
       "2           2  32432804  Impact of severe acute respiratory syndrome on...   \n",
       "3           3  32637365  Participation of the IL-10RB Related Cytokines...   \n",
       "4           4  32061198  [Inhibitors of RAS Might Be a Good Choice for ...   \n",
       "\n",
       "                                                text  \\\n",
       "0  The Battle Against COVID-19 in Jordan: An Earl...   \n",
       "1  Restablecimiento de la actividad en los servic...   \n",
       "2  Impact of Severe Acute Respiratory Syndrome (S...   \n",
       "3  Participation of the IL-10RB Related Cytokines...   \n",
       "4  [Inhibitors of RAS Might Be a Good Choice for ...   \n",
       "\n",
       "                                           clean_doc  \\\n",
       "0  the battle against covid-19 in jordan : an ear...   \n",
       "1  restablecimiento de la actividad en los servic...   \n",
       "2  impact of severe acute respiratory syndrome ( ...   \n",
       "3  participation of the il-10rb related cytokines...   \n",
       "4  [ inhibitors of ras might be a good choice for...   \n",
       "\n",
       "                                 clean_doc_tokenized           human_label  \\\n",
       "0  [['the', 'battle', 'against', 'covid-19', 'in'...            prevention   \n",
       "1  [['restablecimiento', 'de', 'la', 'actividad',...            prevention   \n",
       "2  [['impact', 'of', 'severe', 'acute', 'respirat...            prevention   \n",
       "3  [['participation', 'of', 'the', 'il-10rb', 're...  treatment, mechanism   \n",
       "4  [['[', 'inhibitors', 'of', 'ras', 'might', 'be...  treatment, mechanism   \n",
       "\n",
       "     label  \n",
       "0     1000  \n",
       "1     1000  \n",
       "2     1000  \n",
       "3  1100000  \n",
       "4  1100000  "
      ]
     },
     "execution_count": 2,
     "metadata": {},
     "output_type": "execute_result"
    }
   ],
   "source": [
    "train_set = pd.read_csv(\"data/LitCovid.train.csv\", sep=',')\n",
    "test_set = pd.read_csv(\"data/LitCovid.test.csv\", sep=',')\n",
    "dev_set = pd.read_csv(\"data/LitCovid.dev.csv\", sep=',')\n",
    "\n",
    "data = pd.concat([train_set, test_set, dev_set], ignore_index=True)\n",
    "data.head()"
   ]
  },
  {
   "cell_type": "markdown",
   "metadata": {},
   "source": [
    "Describe the simple statistics of all the columns"
   ]
  },
  {
   "cell_type": "code",
   "execution_count": 3,
   "metadata": {},
   "outputs": [
    {
     "data": {
      "text/html": [
       "<div>\n",
       "<style scoped>\n",
       "    .dataframe tbody tr th:only-of-type {\n",
       "        vertical-align: middle;\n",
       "    }\n",
       "\n",
       "    .dataframe tbody tr th {\n",
       "        vertical-align: top;\n",
       "    }\n",
       "\n",
       "    .dataframe thead th {\n",
       "        text-align: right;\n",
       "    }\n",
       "</style>\n",
       "<table border=\"1\" class=\"dataframe\">\n",
       "  <thead>\n",
       "    <tr style=\"text-align: right;\">\n",
       "      <th></th>\n",
       "      <th>title</th>\n",
       "      <th>text</th>\n",
       "      <th>clean_doc</th>\n",
       "      <th>clean_doc_tokenized</th>\n",
       "      <th>human_label</th>\n",
       "    </tr>\n",
       "  </thead>\n",
       "  <tbody>\n",
       "    <tr>\n",
       "      <th>count</th>\n",
       "      <td>23034</td>\n",
       "      <td>23038</td>\n",
       "      <td>23038</td>\n",
       "      <td>23038</td>\n",
       "      <td>23038</td>\n",
       "    </tr>\n",
       "    <tr>\n",
       "      <th>unique</th>\n",
       "      <td>22938</td>\n",
       "      <td>23013</td>\n",
       "      <td>23006</td>\n",
       "      <td>23006</td>\n",
       "      <td>54</td>\n",
       "    </tr>\n",
       "    <tr>\n",
       "      <th>top</th>\n",
       "      <td>CORONA-steps for tracheotomy in COVID-19 patie...</td>\n",
       "      <td>Veno-venous Extracorporeal Membrane Oxygenatio...</td>\n",
       "      <td>[ respiratory support for severe 2019-ncov pne...</td>\n",
       "      <td>[['identifying', 'rheumatic', 'disease', 'pati...</td>\n",
       "      <td>prevention</td>\n",
       "    </tr>\n",
       "    <tr>\n",
       "      <th>freq</th>\n",
       "      <td>4</td>\n",
       "      <td>2</td>\n",
       "      <td>2</td>\n",
       "      <td>2</td>\n",
       "      <td>9327</td>\n",
       "    </tr>\n",
       "  </tbody>\n",
       "</table>\n",
       "</div>"
      ],
      "text/plain": [
       "                                                    title  \\\n",
       "count                                               23034   \n",
       "unique                                              22938   \n",
       "top     CORONA-steps for tracheotomy in COVID-19 patie...   \n",
       "freq                                                    4   \n",
       "\n",
       "                                                     text  \\\n",
       "count                                               23038   \n",
       "unique                                              23013   \n",
       "top     Veno-venous Extracorporeal Membrane Oxygenatio...   \n",
       "freq                                                    2   \n",
       "\n",
       "                                                clean_doc  \\\n",
       "count                                               23038   \n",
       "unique                                              23006   \n",
       "top     [ respiratory support for severe 2019-ncov pne...   \n",
       "freq                                                    2   \n",
       "\n",
       "                                      clean_doc_tokenized human_label  \n",
       "count                                               23038       23038  \n",
       "unique                                              23006          54  \n",
       "top     [['identifying', 'rheumatic', 'disease', 'pati...  prevention  \n",
       "freq                                                    2        9327  "
      ]
     },
     "execution_count": 3,
     "metadata": {},
     "output_type": "execute_result"
    }
   ],
   "source": [
    "data.describe(include = 'object')"
   ]
  },
  {
   "cell_type": "markdown",
   "metadata": {},
   "source": [
    "## 2. Exploring"
   ]
  },
  {
   "cell_type": "markdown",
   "metadata": {},
   "source": [
    "List each unique values of category labels"
   ]
  },
  {
   "cell_type": "code",
   "execution_count": 4,
   "metadata": {},
   "outputs": [
    {
     "data": {
      "text/plain": [
       "array(['prevention', 'treatment, mechanism', 'transmission, prevention',\n",
       "       'case_report', 'mechanism', 'general', 'diagnosis, treatment',\n",
       "       'diagnosis', 'transmission', 'treatment', 'treatment, prevention',\n",
       "       'mechanism, transmission',\n",
       "       'diagnosis, treatment, mechanism, transmission, prevention',\n",
       "       'diagnosis, prevention', 'diagnosis, transmission',\n",
       "       'diagnosis, treatment, prevention',\n",
       "       'diagnosis, transmission, prevention', 'diagnosis, mechanism',\n",
       "       'mechanism, transmission, prevention',\n",
       "       'diagnosis, treatment, mechanism', 'prevention, forecasting',\n",
       "       'treatment, transmission, prevention',\n",
       "       'treatment, mechanism, prevention', 'forecasting',\n",
       "       'diagnosis, treatment, mechanism, prevention',\n",
       "       'diagnosis, forecasting', 'mechanism, prevention',\n",
       "       'diagnosis, treatment, transmission, prevention',\n",
       "       'transmission, forecasting', 'diagnosis, mechanism, prevention',\n",
       "       'diagnosis, mechanism, transmission',\n",
       "       'diagnosis, treatment, mechanism, transmission',\n",
       "       'diagnosis, treatment, transmission', 'diagnosis, case_report',\n",
       "       'transmission, prevention, forecasting', 'treatment, transmission',\n",
       "       'treatment, mechanism, transmission',\n",
       "       'treatment, mechanism, transmission, prevention',\n",
       "       'treatment, forecasting', 'mechanism, transmission, forecasting',\n",
       "       'mechanism, prevention, forecasting',\n",
       "       'diagnosis, mechanism, transmission, prevention',\n",
       "       'treatment, case_report', 'prevention, general',\n",
       "       'transmission, prevention, case_report', 'mechanism, forecasting',\n",
       "       'diagnosis, mechanism, prevention, forecasting',\n",
       "       'treatment, mechanism, forecasting',\n",
       "       'diagnosis, treatment, prevention, forecasting',\n",
       "       'treatment, prevention, forecasting',\n",
       "       'treatment, mechanism, transmission, forecasting',\n",
       "       'mechanism, case_report', 'diagnosis, prevention, forecasting',\n",
       "       'prevention, case_report'], dtype=object)"
      ]
     },
     "execution_count": 4,
     "metadata": {},
     "output_type": "execute_result"
    }
   ],
   "source": [
    "data.human_label.unique()"
   ]
  },
  {
   "cell_type": "markdown",
   "metadata": {},
   "source": [
    "One-hot encoding on each of the category"
   ]
  },
  {
   "cell_type": "code",
   "execution_count": 5,
   "metadata": {},
   "outputs": [],
   "source": [
    "onehot = (data.human_label.str.split(r'\\s*,\\s*', expand=True)\n",
    "   .apply(pd.Series.value_counts, 1)\n",
    "   .iloc[:, 0:]\n",
    "   .fillna(0, downcast='infer'))"
   ]
  },
  {
   "cell_type": "markdown",
   "metadata": {},
   "source": [
    "Count the frequency of each labels"
   ]
  },
  {
   "cell_type": "code",
   "execution_count": 6,
   "metadata": {},
   "outputs": [
    {
     "data": {
      "text/plain": [
       "case_report      1914\n",
       "diagnosis        4754\n",
       "forecasting       461\n",
       "general           368\n",
       "mechanism        3549\n",
       "prevention      11042\n",
       "transmission     1065\n",
       "treatment        6897\n",
       "dtype: int64"
      ]
     },
     "execution_count": 6,
     "metadata": {},
     "output_type": "execute_result"
    }
   ],
   "source": [
    "onehot.sum()"
   ]
  },
  {
   "cell_type": "markdown",
   "metadata": {},
   "source": [
    "Plot a barchart on the frequency of labels"
   ]
  },
  {
   "cell_type": "code",
   "execution_count": 7,
   "metadata": {},
   "outputs": [
    {
     "data": {
      "text/plain": [
       "<matplotlib.axes._subplots.AxesSubplot at 0x7f2244e30370>"
      ]
     },
     "execution_count": 7,
     "metadata": {},
     "output_type": "execute_result"
    },
    {
     "data": {
      "image/png": "[encoded data removed]",
      "text/plain": [
       "<Figure size 432x288 with 1 Axes>"
      ]
     },
     "metadata": {
      "needs_background": "light"
     },
     "output_type": "display_data"
    }
   ],
   "source": [
    "onehot.sum().plot(kind='bar', legend=False, grid=True)"
   ]
  },
  {
   "cell_type": "markdown",
   "metadata": {},
   "source": [
    "Count the distribution on number of labels"
   ]
  },
  {
   "cell_type": "code",
   "execution_count": 8,
   "metadata": {},
   "outputs": [
    {
     "data": {
      "text/plain": [
       "1    16946\n",
       "2     5324\n",
       "3      636\n",
       "4      112\n",
       "5       20\n",
       "dtype: int64"
      ]
     },
     "execution_count": 8,
     "metadata": {},
     "output_type": "execute_result"
    }
   ],
   "source": [
    "onehot.sum(axis=1).value_counts()"
   ]
  },
  {
   "cell_type": "markdown",
   "metadata": {},
   "source": [
    "Plot a barchart on the distribution on number of labels"
   ]
  },
  {
   "cell_type": "code",
   "execution_count": 9,
   "metadata": {},
   "outputs": [
    {
     "data": {
      "text/plain": [
       "<matplotlib.axes._subplots.AxesSubplot at 0x7f22441971c0>"
      ]
     },
     "execution_count": 9,
     "metadata": {},
     "output_type": "execute_result"
    },
    {
     "data": {
      "image/png": "[encoded data removed]",
      "text/plain": [
       "<Figure size 432x288 with 1 Axes>"
      ]
     },
     "metadata": {
      "needs_background": "light"
     },
     "output_type": "display_data"
    }
   ],
   "source": [
    "onehot.sum(axis=1).value_counts().plot(kind='bar', grid=True)"
   ]
  },
  {
   "cell_type": "markdown",
   "metadata": {},
   "source": [
    "Word count of the literature's text"
   ]
  },
  {
   "cell_type": "code",
   "execution_count": 10,
   "metadata": {},
   "outputs": [
    {
     "data": {
      "text/plain": [
       "count     23038.000000\n",
       "mean       9598.053173\n",
       "std       13640.951549\n",
       "min         171.000000\n",
       "25%        1353.000000\n",
       "50%        2902.500000\n",
       "75%       12530.250000\n",
       "max      166027.000000\n",
       "Name: text, dtype: float64"
      ]
     },
     "execution_count": 10,
     "metadata": {},
     "output_type": "execute_result"
    }
   ],
   "source": [
    "lens = data.text.str.len()\n",
    "lens.describe()"
   ]
  },
  {
   "cell_type": "markdown",
   "metadata": {},
   "source": [
    "Histogram of the word count"
   ]
  },
  {
   "cell_type": "code",
   "execution_count": 11,
   "metadata": {},
   "outputs": [
    {
     "data": {
      "text/plain": [
       "<matplotlib.axes._subplots.AxesSubplot at 0x7f224416f1c0>"
      ]
     },
     "execution_count": 11,
     "metadata": {},
     "output_type": "execute_result"
    },
    {
     "data": {
      "image/png": "[encoded data removed]",
      "text/plain": [
       "<Figure size 432x288 with 1 Axes>"
      ]
     },
     "metadata": {
      "needs_background": "light"
     },
     "output_type": "display_data"
    }
   ],
   "source": [
    "lens.hist(bins = np.arange(0,170000,1000))"
   ]
  },
  {
   "cell_type": "markdown",
   "metadata": {},
   "source": [
    "## 3. Preprocess"
   ]
  },
  {
   "cell_type": "markdown",
   "metadata": {},
   "source": [
    "Drop the unused columns/features"
   ]
  },
  {
   "cell_type": "code",
   "execution_count": 12,
   "metadata": {},
   "outputs": [
    {
     "data": {
      "text/html": [
       "<div>\n",
       "<style scoped>\n",
       "    .dataframe tbody tr th:only-of-type {\n",
       "        vertical-align: middle;\n",
       "    }\n",
       "\n",
       "    .dataframe tbody tr th {\n",
       "        vertical-align: top;\n",
       "    }\n",
       "\n",
       "    .dataframe thead th {\n",
       "        text-align: right;\n",
       "    }\n",
       "</style>\n",
       "<table border=\"1\" class=\"dataframe\">\n",
       "  <thead>\n",
       "    <tr style=\"text-align: right;\">\n",
       "      <th></th>\n",
       "      <th>title</th>\n",
       "      <th>text</th>\n",
       "      <th>case_report</th>\n",
       "      <th>diagnosis</th>\n",
       "      <th>forecasting</th>\n",
       "      <th>general</th>\n",
       "      <th>mechanism</th>\n",
       "      <th>prevention</th>\n",
       "      <th>transmission</th>\n",
       "      <th>treatment</th>\n",
       "    </tr>\n",
       "  </thead>\n",
       "  <tbody>\n",
       "    <tr>\n",
       "      <th>0</th>\n",
       "      <td>The Battle Against COVID-19 in Jordan: An Earl...</td>\n",
       "      <td>The Battle Against COVID-19 in Jordan: An Earl...</td>\n",
       "      <td>0</td>\n",
       "      <td>0</td>\n",
       "      <td>0</td>\n",
       "      <td>0</td>\n",
       "      <td>0</td>\n",
       "      <td>1</td>\n",
       "      <td>0</td>\n",
       "      <td>0</td>\n",
       "    </tr>\n",
       "    <tr>\n",
       "      <th>1</th>\n",
       "      <td>Resumption of activity in gastroenterology dep...</td>\n",
       "      <td>Restablecimiento de la actividad en los servic...</td>\n",
       "      <td>0</td>\n",
       "      <td>0</td>\n",
       "      <td>0</td>\n",
       "      <td>0</td>\n",
       "      <td>0</td>\n",
       "      <td>1</td>\n",
       "      <td>0</td>\n",
       "      <td>0</td>\n",
       "    </tr>\n",
       "    <tr>\n",
       "      <th>2</th>\n",
       "      <td>Impact of severe acute respiratory syndrome on...</td>\n",
       "      <td>Impact of Severe Acute Respiratory Syndrome (S...</td>\n",
       "      <td>0</td>\n",
       "      <td>0</td>\n",
       "      <td>0</td>\n",
       "      <td>0</td>\n",
       "      <td>0</td>\n",
       "      <td>1</td>\n",
       "      <td>0</td>\n",
       "      <td>0</td>\n",
       "    </tr>\n",
       "    <tr>\n",
       "      <th>3</th>\n",
       "      <td>Participation of the IL-10RB Related Cytokines...</td>\n",
       "      <td>Participation of the IL-10RB Related Cytokines...</td>\n",
       "      <td>0</td>\n",
       "      <td>0</td>\n",
       "      <td>0</td>\n",
       "      <td>0</td>\n",
       "      <td>1</td>\n",
       "      <td>0</td>\n",
       "      <td>0</td>\n",
       "      <td>1</td>\n",
       "    </tr>\n",
       "    <tr>\n",
       "      <th>4</th>\n",
       "      <td>[Inhibitors of RAS Might Be a Good Choice for ...</td>\n",
       "      <td>[Inhibitors of RAS Might Be a Good Choice for ...</td>\n",
       "      <td>0</td>\n",
       "      <td>0</td>\n",
       "      <td>0</td>\n",
       "      <td>0</td>\n",
       "      <td>1</td>\n",
       "      <td>0</td>\n",
       "      <td>0</td>\n",
       "      <td>1</td>\n",
       "    </tr>\n",
       "    <tr>\n",
       "      <th>...</th>\n",
       "      <td>...</td>\n",
       "      <td>...</td>\n",
       "      <td>...</td>\n",
       "      <td>...</td>\n",
       "      <td>...</td>\n",
       "      <td>...</td>\n",
       "      <td>...</td>\n",
       "      <td>...</td>\n",
       "      <td>...</td>\n",
       "      <td>...</td>\n",
       "    </tr>\n",
       "    <tr>\n",
       "      <th>23033</th>\n",
       "      <td>Nasopharyngeal wash in preventing and treating...</td>\n",
       "      <td>Nasopharyngeal wash in preventing and treating...</td>\n",
       "      <td>0</td>\n",
       "      <td>0</td>\n",
       "      <td>0</td>\n",
       "      <td>0</td>\n",
       "      <td>0</td>\n",
       "      <td>1</td>\n",
       "      <td>0</td>\n",
       "      <td>1</td>\n",
       "    </tr>\n",
       "    <tr>\n",
       "      <th>23034</th>\n",
       "      <td>C-reactive protein, procalcitonin, D-dimer, an...</td>\n",
       "      <td>C-reactive protein, procalcitonin, D-dimer, an...</td>\n",
       "      <td>0</td>\n",
       "      <td>1</td>\n",
       "      <td>0</td>\n",
       "      <td>0</td>\n",
       "      <td>0</td>\n",
       "      <td>0</td>\n",
       "      <td>0</td>\n",
       "      <td>1</td>\n",
       "    </tr>\n",
       "    <tr>\n",
       "      <th>23035</th>\n",
       "      <td>Routine Venous Thromboembolism Prophylaxis May...</td>\n",
       "      <td>Routine Venous Thromboembolism Prophylaxis May...</td>\n",
       "      <td>0</td>\n",
       "      <td>1</td>\n",
       "      <td>0</td>\n",
       "      <td>0</td>\n",
       "      <td>0</td>\n",
       "      <td>0</td>\n",
       "      <td>0</td>\n",
       "      <td>1</td>\n",
       "    </tr>\n",
       "    <tr>\n",
       "      <th>23036</th>\n",
       "      <td>QT interval evaluation associated with the use...</td>\n",
       "      <td>QT interval evaluation associated with the use...</td>\n",
       "      <td>0</td>\n",
       "      <td>1</td>\n",
       "      <td>0</td>\n",
       "      <td>0</td>\n",
       "      <td>0</td>\n",
       "      <td>0</td>\n",
       "      <td>0</td>\n",
       "      <td>1</td>\n",
       "    </tr>\n",
       "    <tr>\n",
       "      <th>23037</th>\n",
       "      <td>Hybridization Chain Reactions Targeting the Se...</td>\n",
       "      <td>Hybridization Chain Reactions Targeting the Se...</td>\n",
       "      <td>0</td>\n",
       "      <td>1</td>\n",
       "      <td>0</td>\n",
       "      <td>0</td>\n",
       "      <td>1</td>\n",
       "      <td>0</td>\n",
       "      <td>0</td>\n",
       "      <td>0</td>\n",
       "    </tr>\n",
       "  </tbody>\n",
       "</table>\n",
       "<p>23038 rows × 10 columns</p>\n",
       "</div>"
      ],
      "text/plain": [
       "                                                   title  \\\n",
       "0      The Battle Against COVID-19 in Jordan: An Earl...   \n",
       "1      Resumption of activity in gastroenterology dep...   \n",
       "2      Impact of severe acute respiratory syndrome on...   \n",
       "3      Participation of the IL-10RB Related Cytokines...   \n",
       "4      [Inhibitors of RAS Might Be a Good Choice for ...   \n",
       "...                                                  ...   \n",
       "23033  Nasopharyngeal wash in preventing and treating...   \n",
       "23034  C-reactive protein, procalcitonin, D-dimer, an...   \n",
       "23035  Routine Venous Thromboembolism Prophylaxis May...   \n",
       "23036  QT interval evaluation associated with the use...   \n",
       "23037  Hybridization Chain Reactions Targeting the Se...   \n",
       "\n",
       "                                                    text  case_report  \\\n",
       "0      The Battle Against COVID-19 in Jordan: An Earl...            0   \n",
       "1      Restablecimiento de la actividad en los servic...            0   \n",
       "2      Impact of Severe Acute Respiratory Syndrome (S...            0   \n",
       "3      Participation of the IL-10RB Related Cytokines...            0   \n",
       "4      [Inhibitors of RAS Might Be a Good Choice for ...            0   \n",
       "...                                                  ...          ...   \n",
       "23033  Nasopharyngeal wash in preventing and treating...            0   \n",
       "23034  C-reactive protein, procalcitonin, D-dimer, an...            0   \n",
       "23035  Routine Venous Thromboembolism Prophylaxis May...            0   \n",
       "23036  QT interval evaluation associated with the use...            0   \n",
       "23037  Hybridization Chain Reactions Targeting the Se...            0   \n",
       "\n",
       "       diagnosis  forecasting  general  mechanism  prevention  transmission  \\\n",
       "0              0            0        0          0           1             0   \n",
       "1              0            0        0          0           1             0   \n",
       "2              0            0        0          0           1             0   \n",
       "3              0            0        0          1           0             0   \n",
       "4              0            0        0          1           0             0   \n",
       "...          ...          ...      ...        ...         ...           ...   \n",
       "23033          0            0        0          0           1             0   \n",
       "23034          1            0        0          0           0             0   \n",
       "23035          1            0        0          0           0             0   \n",
       "23036          1            0        0          0           0             0   \n",
       "23037          1            0        0          1           0             0   \n",
       "\n",
       "       treatment  \n",
       "0              0  \n",
       "1              0  \n",
       "2              0  \n",
       "3              1  \n",
       "4              1  \n",
       "...          ...  \n",
       "23033          1  \n",
       "23034          1  \n",
       "23035          1  \n",
       "23036          1  \n",
       "23037          0  \n",
       "\n",
       "[23038 rows x 10 columns]"
      ]
     },
     "execution_count": 12,
     "metadata": {},
     "output_type": "execute_result"
    }
   ],
   "source": [
    "data = pd.concat([data, onehot], axis=1)\n",
    "data = data.drop(['Unnamed: 0', 'pmid', 'clean_doc', 'clean_doc_tokenized', 'label', 'human_label'], axis=1)\n",
    "data"
   ]
  },
  {
   "cell_type": "markdown",
   "metadata": {},
   "source": [
    "Tokenize the text using NLTK library function"
   ]
  },
  {
   "cell_type": "code",
   "execution_count": 13,
   "metadata": {},
   "outputs": [
    {
     "name": "stdout",
     "output_type": "stream",
     "text": [
      "Pretty printing has been turned OFF\n"
     ]
    },
    {
     "data": {
      "text/plain": [
       "['the', 'battle', 'against', 'covid-19', 'in', 'jordan', ':', 'an', 'early', 'overview', 'of', 'the', 'jordanian', 'experience', '.', 'since', 'the', 'initial', 'spark', 'of', 'the', 'covid-19', 'outbreak', 'in', 'december', '2019', ',', 'which', 'was', 'later', 'declared', 'by', 'the', 'world', 'health', 'organization', '(', 'who', ')', 'to', 'be', 'a', 'global', 'pandemic', ',', 'all', 'affected', 'countries', 'are', 'implementing', 'various', 'preventive', 'and', 'control', 'measures', 'to', 'mitigate', 'the', 'spread', 'of', 'the', 'disease', '.', 'the', 'newly', 'emerging', 'virus', 'brings', 'with', 'it', 'uncertainty-not', 'only', 'regarding', 'its', 'behavior', 'and', 'transmission', 'dynamics', 'but', 'also', 'regarding', 'the', 'current', 'lack', 'of', 'approved', 'antiviral', 'therapy', 'or', 'vaccines-and', 'this', 'represents', 'a', 'major', 'challenge', 'for', 'decision', 'makers', 'at', 'various', 'levels', 'and', 'sectors', '.', 'this', 'article', 'aims', 'to', 'provide', 'an', 'early', 'overview', 'of', 'the', 'covid-19', 'battle', 'within', 'the', 'jordanian', 'context', ',', 'including', 'general', 'reflections', 'and', 'conclusions', 'on', 'the', 'value', 'of', 'collaborative', 'efforts', 'in', 'crises', 'management', '.']"
      ]
     },
     "execution_count": 13,
     "metadata": {},
     "output_type": "execute_result"
    }
   ],
   "source": [
    "import nltk\n",
    "%pprint\n",
    "\n",
    "data['text'] = data['text'].astype(str)\n",
    "data['processed_text'] = [nltk.word_tokenize(text.lower()) for text in data['text']]\n",
    "[w for w in data['processed_text'][0]]"
   ]
  },
  {
   "cell_type": "markdown",
   "metadata": {},
   "source": [
    "Remove non-alphanumeric word tokens"
   ]
  },
  {
   "cell_type": "code",
   "execution_count": 14,
   "metadata": {},
   "outputs": [
    {
     "data": {
      "text/plain": [
       "['the', 'battle', 'against', 'in', 'jordan', 'an', 'early', 'overview', 'of', 'the', 'jordanian', 'experience', 'since', 'the', 'initial', 'spark', 'of', 'the', 'outbreak', 'in', 'december', '2019', 'which', 'was', 'later', 'declared', 'by', 'the', 'world', 'health', 'organization', 'who', 'to', 'be', 'a', 'global', 'pandemic', 'all', 'affected', 'countries', 'are', 'implementing', 'various', 'preventive', 'and', 'control', 'measures', 'to', 'mitigate', 'the', 'spread', 'of', 'the', 'disease', 'the', 'newly', 'emerging', 'virus', 'brings', 'with', 'it', 'only', 'regarding', 'its', 'behavior', 'and', 'transmission', 'dynamics', 'but', 'also', 'regarding', 'the', 'current', 'lack', 'of', 'approved', 'antiviral', 'therapy', 'or', 'this', 'represents', 'a', 'major', 'challenge', 'for', 'decision', 'makers', 'at', 'various', 'levels', 'and', 'sectors', 'this', 'article', 'aims', 'to', 'provide', 'an', 'early', 'overview', 'of', 'the', 'battle', 'within', 'the', 'jordanian', 'context', 'including', 'general', 'reflections', 'and', 'conclusions', 'on', 'the', 'value', 'of', 'collaborative', 'efforts', 'in', 'crises', 'management']"
      ]
     },
     "execution_count": 14,
     "metadata": {},
     "output_type": "execute_result"
    }
   ],
   "source": [
    "data['processed_text'] = [[token for token in tokens if token.isalnum()] for tokens in data.processed_text]\n",
    "[w for w in data['processed_text'][0]]"
   ]
  },
  {
   "cell_type": "markdown",
   "metadata": {},
   "source": [
    "Lemmatize the word tokens"
   ]
  },
  {
   "cell_type": "markdown",
   "metadata": {},
   "source": [
    "Remove common English stopwords"
   ]
  },
  {
   "cell_type": "code",
   "execution_count": 15,
   "metadata": {},
   "outputs": [
    {
     "data": {
      "text/plain": [
       "['battle', 'jordan', 'early', 'overview', 'jordanian', 'experience', 'since', 'initial', 'spark', 'outbreak', 'december', '2019', 'later', 'declared', 'world', 'health', 'organization', 'global', 'pandemic', 'affected', 'countries', 'implementing', 'various', 'preventive', 'control', 'measures', 'mitigate', 'spread', 'disease', 'newly', 'emerging', 'virus', 'brings', 'regarding', 'behavior', 'transmission', 'dynamics', 'also', 'regarding', 'current', 'lack', 'approved', 'antiviral', 'therapy', 'represents', 'major', 'challenge', 'decision', 'makers', 'various', 'levels', 'sectors', 'article', 'aims', 'provide', 'early', 'overview', 'battle', 'within', 'jordanian', 'context', 'including', 'general', 'reflections', 'conclusions', 'value', 'collaborative', 'efforts', 'crises', 'management']"
      ]
     },
     "execution_count": 15,
     "metadata": {},
     "output_type": "execute_result"
    }
   ],
   "source": [
    "stopwords = nltk.corpus.stopwords.words(\"english\")\n",
    "data['processed_text'] = [[token for token in tokens if token not in stopwords] for tokens in data.processed_text]\n",
    "[w for w in data['processed_text'][0]]"
   ]
  },
  {
   "cell_type": "code",
   "execution_count": 16,
   "metadata": {},
   "outputs": [
    {
     "data": {
      "text/plain": [
       "['battle', 'jordan', 'early', 'overview', 'jordanian', 'experience', 'since', 'initial', 'spark', 'outbreak', 'december', '2019', 'later', 'declared', 'world', 'health', 'organization', 'global', 'pandemic', 'affected', 'country', 'implementing', 'various', 'preventive', 'control', 'measure', 'mitigate', 'spread', 'disease', 'newly', 'emerging', 'virus', 'brings', 'regarding', 'behavior', 'transmission', 'dynamic', 'also', 'regarding', 'current', 'lack', 'approved', 'antiviral', 'therapy', 'represents', 'major', 'challenge', 'decision', 'maker', 'various', 'level', 'sector', 'article', 'aim', 'provide', 'early', 'overview', 'battle', 'within', 'jordanian', 'context', 'including', 'general', 'reflection', 'conclusion', 'value', 'collaborative', 'effort', 'crisis', 'management']"
      ]
     },
     "execution_count": 16,
     "metadata": {},
     "output_type": "execute_result"
    }
   ],
   "source": [
    "from nltk.stem import WordNetLemmatizer\n",
    "\n",
    "lemmatizer = WordNetLemmatizer()\n",
    "\n",
    "data['processed_text'] = [[lemmatizer.lemmatize(token) for token in tokens] for tokens in data.processed_text]\n",
    "\n",
    "[w for w in data['processed_text'][0]]"
   ]
  },
  {
   "cell_type": "markdown",
   "metadata": {},
   "source": [
    "## 4. Extract Features"
   ]
  },
  {
   "cell_type": "markdown",
   "metadata": {},
   "source": [
    "Extract the important words with TF-IDF. As the texts are already preprocessed, additional instructions are included so that they are not preprocessed again"
   ]
  },
  {
   "cell_type": "code",
   "execution_count": 17,
   "metadata": {},
   "outputs": [
    {
     "data": {
      "text/plain": [
       "(23038, 10000)"
      ]
     },
     "execution_count": 17,
     "metadata": {},
     "output_type": "execute_result"
    }
   ],
   "source": [
    "from sklearn.feature_extraction.text import TfidfVectorizer\n",
    "\n",
    "def identity_tokenizer(text):\n",
    "    return text\n",
    "\n",
    "tfidf = TfidfVectorizer(tokenizer=identity_tokenizer, lowercase=False, max_features=10000)\n",
    "X = tfidf.fit_transform(data.processed_text)\n",
    "\n",
    "X.shape"
   ]
  },
  {
   "cell_type": "markdown",
   "metadata": {},
   "source": [
    "Extract the features as Bag-of-Words with the word frequencies."
   ]
  },
  {
   "cell_type": "code",
   "execution_count": 18,
   "metadata": {},
   "outputs": [
    {
     "data": {
      "text/plain": [
       "(23038, 10000)"
      ]
     },
     "execution_count": 18,
     "metadata": {},
     "output_type": "execute_result"
    }
   ],
   "source": [
    "from sklearn.feature_extraction.text import CountVectorizer\n",
    "\n",
    "vectorizer = CountVectorizer(tokenizer=identity_tokenizer, lowercase=False, max_features=10000)\n",
    "X_bow = vectorizer.fit_transform(data.processed_text)\n",
    "\n",
    "X_bow.shape"
   ]
  },
  {
   "cell_type": "markdown",
   "metadata": {},
   "source": [
    "## 5. Hyperparameters Tuning"
   ]
  },
  {
   "cell_type": "markdown",
   "metadata": {},
   "source": [
    "Define function for hyperparameters tuning"
   ]
  },
  {
   "cell_type": "code",
   "execution_count": 19,
   "metadata": {},
   "outputs": [],
   "source": [
    "from sklearn.model_selection import train_test_split\n",
    "from sklearn.metrics import accuracy_score\n",
    "from sklearn.metrics import f1_score\n",
    "\n",
    "def hp_tuner(X, model):\n",
    "    x, X_test, y, y_test = \\\n",
    "        train_test_split(X, data[onehot.columns], train_size=0.8, random_state=42)\n",
    "    X_train, X_cv, y_train, y_cv = \\\n",
    "        train_test_split(x, y, train_size =0.75, random_state=42)\n",
    "    \n",
    "    model = OneVsRestClassifier(model).fit(X_train, y_train)\n",
    "    y_pred_train = model.predict(X_train)\n",
    "    y_pred_cv = model.predict(X_cv)\n",
    "    f1_score_train = f1_score(y_train, y_pred_train, average = 'micro')\n",
    "    f1_score_cv = f1_score(y_cv, y_pred_cv, average = 'micro')\n",
    "    accuracy_train = accuracy_score(y_train, y_pred_train)\n",
    "    accuracy_cv = accuracy_score(y_cv, y_pred_cv)\n",
    "    \n",
    "    print(\"Train Score:\",f1_score_train, \"CV Score:\", f1_score_cv)\n",
    "    print(\"Train Accuracy:\",accuracy_train, \"CV Accuracy:\", accuracy_cv)\n",
    "    print(\"-\" * 50)"
   ]
  },
  {
   "cell_type": "markdown",
   "metadata": {},
   "source": [
    "Compare different model families and feature extraction methods with default settings"
   ]
  },
  {
   "cell_type": "code",
   "execution_count": 20,
   "metadata": {
    "scrolled": true
   },
   "outputs": [
    {
     "name": "stdout",
     "output_type": "stream",
     "text": [
      "ALGORITHM: Linear SVC\n",
      "Train Score: 0.9492643328259766 CV Score: 0.7983646485734168\n",
      "Train Accuracy: 0.8934307625524526 CV Accuracy: 0.6488715277777778\n",
      "--------------------------------------------------\n",
      "ALGORITHM: Multinomial Naive Bayes\n",
      "Train Score: 0.7715480682050831 CV Score: 0.7582388610598472\n",
      "Train Accuracy: 0.6194472579945015 CV Accuracy: 0.6143663194444444\n",
      "--------------------------------------------------\n",
      "ALGORITHM: Logistic Regression\n",
      "Train Score: 0.841347159549353 CV Score: 0.7959757092359288\n",
      "Train Accuracy: 0.7200115757488063 CV Accuracy: 0.6631944444444444\n",
      "--------------------------------------------------\n",
      "ALGORITHM: RandomForestClassifier\n",
      "Train Score: 0.9997222376534636 CV Score: 0.7474128018397854\n",
      "Train Accuracy: 0.9994212125596874 CV Accuracy: 0.6039496527777778\n",
      "--------------------------------------------------\n",
      "ALGORITHM: DecisionTreeClassifier\n",
      "Train Score: 0.9997222067892662 CV Score: 0.6587354409317804\n",
      "Train Accuracy: 0.9993488641296484 CV Accuracy: 0.421875\n",
      "--------------------------------------------------\n",
      "ALGORITHM: KNN\n",
      "Train Score: 0.8110914522725294 CV Score: 0.7461498529157293\n",
      "Train Accuracy: 0.687961221241499 CV Accuracy: 0.6126302083333334\n",
      "--------------------------------------------------\n",
      "ALGORITHM: Linear SVC (BoW)\n"
     ]
    },
    {
     "name": "stderr",
     "output_type": "stream",
     "text": [
      "/home/weihien/anaconda3/lib/python3.8/site-packages/sklearn/svm/_base.py:976: ConvergenceWarning: Liblinear failed to converge, increase the number of iterations.\n",
      "  warnings.warn(\"Liblinear failed to converge, increase \"\n"
     ]
    },
    {
     "name": "stdout",
     "output_type": "stream",
     "text": [
      "Train Score: 0.998917177999278 CV Score: 0.7308707124010555\n",
      "Train Accuracy: 0.9973954565185935 CV Accuracy: 0.5327690972222222\n",
      "--------------------------------------------------\n",
      "ALGORITHM: Multinomial Naive Bayes (BoW)\n",
      "Train Score: 0.7013543668942356 CV Score: 0.6921291691532392\n",
      "Train Accuracy: 0.3736072927217479 CV Accuracy: 0.3739149305555556\n",
      "--------------------------------------------------\n",
      "ALGORITHM: Logistic Regression (BoW)\n"
     ]
    },
    {
     "name": "stderr",
     "output_type": "stream",
     "text": [
      "/home/weihien/anaconda3/lib/python3.8/site-packages/sklearn/linear_model/_logistic.py:762: ConvergenceWarning: lbfgs failed to converge (status=1):\n",
      "STOP: TOTAL NO. of ITERATIONS REACHED LIMIT.\n",
      "\n",
      "Increase the number of iterations (max_iter) or scale the data as shown in:\n",
      "    https://scikit-learn.org/stable/modules/preprocessing.html\n",
      "Please also refer to the documentation for alternative solver options:\n",
      "    https://scikit-learn.org/stable/modules/linear_model.html#logistic-regression\n",
      "  n_iter_i = _check_optimize_result(\n",
      "/home/weihien/anaconda3/lib/python3.8/site-packages/sklearn/linear_model/_logistic.py:762: ConvergenceWarning: lbfgs failed to converge (status=1):\n",
      "STOP: TOTAL NO. of ITERATIONS REACHED LIMIT.\n",
      "\n",
      "Increase the number of iterations (max_iter) or scale the data as shown in:\n",
      "    https://scikit-learn.org/stable/modules/preprocessing.html\n",
      "Please also refer to the documentation for alternative solver options:\n",
      "    https://scikit-learn.org/stable/modules/linear_model.html#logistic-regression\n",
      "  n_iter_i = _check_optimize_result(\n",
      "/home/weihien/anaconda3/lib/python3.8/site-packages/sklearn/linear_model/_logistic.py:762: ConvergenceWarning: lbfgs failed to converge (status=1):\n",
      "STOP: TOTAL NO. of ITERATIONS REACHED LIMIT.\n",
      "\n",
      "Increase the number of iterations (max_iter) or scale the data as shown in:\n",
      "    https://scikit-learn.org/stable/modules/preprocessing.html\n",
      "Please also refer to the documentation for alternative solver options:\n",
      "    https://scikit-learn.org/stable/modules/linear_model.html#logistic-regression\n",
      "  n_iter_i = _check_optimize_result(\n",
      "/home/weihien/anaconda3/lib/python3.8/site-packages/sklearn/linear_model/_logistic.py:762: ConvergenceWarning: lbfgs failed to converge (status=1):\n",
      "STOP: TOTAL NO. of ITERATIONS REACHED LIMIT.\n",
      "\n",
      "Increase the number of iterations (max_iter) or scale the data as shown in:\n",
      "    https://scikit-learn.org/stable/modules/preprocessing.html\n",
      "Please also refer to the documentation for alternative solver options:\n",
      "    https://scikit-learn.org/stable/modules/linear_model.html#logistic-regression\n",
      "  n_iter_i = _check_optimize_result(\n",
      "/home/weihien/anaconda3/lib/python3.8/site-packages/sklearn/linear_model/_logistic.py:762: ConvergenceWarning: lbfgs failed to converge (status=1):\n",
      "STOP: TOTAL NO. of ITERATIONS REACHED LIMIT.\n",
      "\n",
      "Increase the number of iterations (max_iter) or scale the data as shown in:\n",
      "    https://scikit-learn.org/stable/modules/preprocessing.html\n",
      "Please also refer to the documentation for alternative solver options:\n",
      "    https://scikit-learn.org/stable/modules/linear_model.html#logistic-regression\n",
      "  n_iter_i = _check_optimize_result(\n",
      "/home/weihien/anaconda3/lib/python3.8/site-packages/sklearn/linear_model/_logistic.py:762: ConvergenceWarning: lbfgs failed to converge (status=1):\n",
      "STOP: TOTAL NO. of ITERATIONS REACHED LIMIT.\n",
      "\n",
      "Increase the number of iterations (max_iter) or scale the data as shown in:\n",
      "    https://scikit-learn.org/stable/modules/preprocessing.html\n",
      "Please also refer to the documentation for alternative solver options:\n",
      "    https://scikit-learn.org/stable/modules/linear_model.html#logistic-regression\n",
      "  n_iter_i = _check_optimize_result(\n",
      "/home/weihien/anaconda3/lib/python3.8/site-packages/sklearn/linear_model/_logistic.py:762: ConvergenceWarning: lbfgs failed to converge (status=1):\n",
      "STOP: TOTAL NO. of ITERATIONS REACHED LIMIT.\n",
      "\n",
      "Increase the number of iterations (max_iter) or scale the data as shown in:\n",
      "    https://scikit-learn.org/stable/modules/preprocessing.html\n",
      "Please also refer to the documentation for alternative solver options:\n",
      "    https://scikit-learn.org/stable/modules/linear_model.html#logistic-regression\n",
      "  n_iter_i = _check_optimize_result(\n",
      "/home/weihien/anaconda3/lib/python3.8/site-packages/sklearn/linear_model/_logistic.py:762: ConvergenceWarning: lbfgs failed to converge (status=1):\n",
      "STOP: TOTAL NO. of ITERATIONS REACHED LIMIT.\n",
      "\n",
      "Increase the number of iterations (max_iter) or scale the data as shown in:\n",
      "    https://scikit-learn.org/stable/modules/preprocessing.html\n",
      "Please also refer to the documentation for alternative solver options:\n",
      "    https://scikit-learn.org/stable/modules/linear_model.html#logistic-regression\n",
      "  n_iter_i = _check_optimize_result(\n"
     ]
    },
    {
     "name": "stdout",
     "output_type": "stream",
     "text": [
      "Train Score: 0.9737601164972415 CV Score: 0.7629911280101395\n",
      "Train Accuracy: 0.9414701200983938 CV Accuracy: 0.5876736111111112\n",
      "--------------------------------------------------\n",
      "ALGORITHM: RandomForestClassifier (BoW)\n",
      "Train Score: 0.9997222376534636 CV Score: 0.7348286241382658\n",
      "Train Accuracy: 0.9994935609897265 CV Accuracy: 0.5874565972222222\n",
      "--------------------------------------------------\n",
      "ALGORITHM: DecisionTreeClassifier (BoW)\n",
      "Train Score: 0.9997222067892662 CV Score: 0.6516928708094168\n",
      "Train Accuracy: 0.9993488641296484 CV Accuracy: 0.4173177083333333\n",
      "--------------------------------------------------\n",
      "ALGORITHM: KNN (BoW)\n",
      "Train Score: 0.7574059247397917 CV Score: 0.6610153702841174\n",
      "Train Accuracy: 0.6325423238315728 CV Accuracy: 0.5373263888888888\n",
      "--------------------------------------------------\n"
     ]
    }
   ],
   "source": [
    "from sklearn.multiclass import OneVsRestClassifier\n",
    "from sklearn.linear_model import LogisticRegression\n",
    "from sklearn.svm import LinearSVC\n",
    "from sklearn.ensemble import RandomForestClassifier\n",
    "from sklearn.naive_bayes import MultinomialNB\n",
    "from sklearn.tree import DecisionTreeClassifier\n",
    "from sklearn.neighbors import KNeighborsClassifier\n",
    "\n",
    "algos = {\n",
    "    'Linear SVC': LinearSVC(),\n",
    "    'Multinomial Naive Bayes': MultinomialNB(),\n",
    "    'Logistic Regression': LogisticRegression(),\n",
    "    \"RandomForestClassifier\": RandomForestClassifier(),\n",
    "    \"DecisionTreeClassifier\": DecisionTreeClassifier(),\n",
    "    'KNN': KNeighborsClassifier()\n",
    "};\n",
    "\n",
    "for algo in algos:\n",
    "    print('ALGORITHM: {}'.format(algo))\n",
    "    hp_tuner(X, algos[algo])\n",
    "    \n",
    "for algo in algos:\n",
    "    print('ALGORITHM: {} (BoW)'.format(algo))\n",
    "    hp_tuner(X_bow, algos[algo])"
   ]
  },
  {
   "cell_type": "markdown",
   "metadata": {},
   "source": [
    "Optimization of n-gram range"
   ]
  },
  {
   "cell_type": "code",
   "execution_count": 21,
   "metadata": {
    "scrolled": true
   },
   "outputs": [
    {
     "name": "stdout",
     "output_type": "stream",
     "text": [
      "N-gram of (1, 1)\n",
      "Train Score: 0.841347159549353 CV Score: 0.7959757092359288\n",
      "Train Accuracy: 0.7200115757488063 CV Accuracy: 0.6631944444444444\n",
      "--------------------------------------------------\n",
      "N-gram of (1, 2)\n",
      "Train Score: 0.8446367298224675 CV Score: 0.7976082623663708\n",
      "Train Accuracy: 0.7255100564317755 CV Accuracy: 0.6649305555555556\n",
      "--------------------------------------------------\n",
      "N-gram of (1, 3)\n",
      "Train Score: 0.8439868695911669 CV Score: 0.7976459936622907\n",
      "Train Accuracy: 0.7244248299811894 CV Accuracy: 0.6647135416666666\n",
      "--------------------------------------------------\n",
      "N-gram of (2, 2)\n",
      "Train Score: 0.8104324123404782 CV Score: 0.7501179134043958\n",
      "Train Accuracy: 0.6706699464621618 CV Accuracy: 0.6069878472222222\n",
      "--------------------------------------------------\n",
      "N-gram of (2, 3)\n",
      "Train Score: 0.8064116078625907 CV Score: 0.7496223564954683\n",
      "Train Accuracy: 0.6658949500795833 CV Accuracy: 0.6056857638888888\n",
      "--------------------------------------------------\n",
      "N-gram of (3, 3)\n",
      "Train Score: 0.7242201535195164 CV Score: 0.645219482862297\n",
      "Train Accuracy: 0.5760381999710606 CV Accuracy: 0.5006510416666666\n",
      "--------------------------------------------------\n"
     ]
    }
   ],
   "source": [
    "ngrams = [(1,1), (1,2), (1,3), (2,2), (2,3), (3,3)]\n",
    "\n",
    "for ngram in ngrams:\n",
    "    tfidf_ngram = TfidfVectorizer(tokenizer=identity_tokenizer, lowercase=False, max_features=10000, ngram_range = ngram)\n",
    "    X_ngram = tfidf_ngram.fit_transform(data.processed_text)\n",
    "\n",
    "    print('N-gram of {}'.format(ngram))\n",
    "    hp_tuner(X_ngram, LogisticRegression())"
   ]
  },
  {
   "cell_type": "markdown",
   "metadata": {},
   "source": [
    "Optimization of max_df"
   ]
  },
  {
   "cell_type": "code",
   "execution_count": 22,
   "metadata": {},
   "outputs": [
    {
     "name": "stdout",
     "output_type": "stream",
     "text": [
      "Max DF of 0.25\n",
      "Train Score: 0.834051789105598 CV Score: 0.7850330154071901\n",
      "Train Accuracy: 0.709014614382868 CV Accuracy: 0.6527777777777778\n",
      "--------------------------------------------------\n",
      "Max DF of 0.5\n",
      "Train Score: 0.8426905829596413 CV Score: 0.7973181118057444\n",
      "Train Accuracy: 0.7223990739400955 CV Accuracy: 0.6638454861111112\n",
      "--------------------------------------------------\n",
      "Max DF of 0.75\n",
      "Train Score: 0.8439627373701183 CV Score: 0.7980429464528405\n",
      "Train Accuracy: 0.7233396035306033 CV Accuracy: 0.6644965277777778\n",
      "--------------------------------------------------\n",
      "Max DF of 1.0\n",
      "Train Score: 0.8446367298224675 CV Score: 0.7976082623663708\n",
      "Train Accuracy: 0.7255100564317755 CV Accuracy: 0.6649305555555556\n",
      "--------------------------------------------------\n"
     ]
    }
   ],
   "source": [
    "max_df_range = [0.25,0.5,0.75,1.0]\n",
    "\n",
    "for max_df in max_df_range:\n",
    "    tfidf_maxdf = TfidfVectorizer(tokenizer=identity_tokenizer, lowercase=False, max_features=10000, ngram_range = (1,2), max_df = max_df)\n",
    "    X_maxdf = tfidf_maxdf.fit_transform(data.processed_text)\n",
    "\n",
    "    print('Max DF of {}'.format(max_df))\n",
    "    hp_tuner(X_maxdf, LogisticRegression())"
   ]
  },
  {
   "cell_type": "markdown",
   "metadata": {},
   "source": [
    "Optimization of max_features"
   ]
  },
  {
   "cell_type": "code",
   "execution_count": 29,
   "metadata": {
    "scrolled": true
   },
   "outputs": [
    {
     "name": "stdout",
     "output_type": "stream",
     "text": [
      "Max Features of 100\n",
      "Train Score: 0.7404064572795833 CV Score: 0.7360304789550073\n",
      "Train Accuracy: 0.5832006945449284 CV Accuracy: 0.5772569444444444\n",
      "--------------------------------------------------\n",
      "Max Features of 1000\n",
      "Train Score: 0.8233583573187738 CV Score: 0.8015675097969361\n",
      "Train Accuracy: 0.6941108377948199 CV Accuracy: 0.6694878472222222\n",
      "--------------------------------------------------\n",
      "Max Features of 10000\n",
      "Train Score: 0.8446367298224675 CV Score: 0.7976082623663708\n",
      "Train Accuracy: 0.7255100564317755 CV Accuracy: 0.6649305555555556\n",
      "--------------------------------------------------\n",
      "Max Features of 100000\n",
      "Train Score: 0.844448471668479 CV Score: 0.78189376443418\n",
      "Train Accuracy: 0.7214585443495876 CV Accuracy: 0.6480034722222222\n",
      "--------------------------------------------------\n"
     ]
    }
   ],
   "source": [
    "max_features_range = [100, 1000, 10000, 100000]\n",
    "\n",
    "for max_features in max_features_range:\n",
    "    tfidf_max_features = TfidfVectorizer(tokenizer=identity_tokenizer, lowercase=False, ngram_range = (1,2), max_df = 1.0, max_features=max_features)\n",
    "    X_max_features = tfidf_max_features.fit_transform(data.processed_text)\n",
    "\n",
    "    print('Max Features of {}'.format(max_features))\n",
    "    hp_tuner(X_max_features, LogisticRegression())"
   ]
  },
  {
   "cell_type": "markdown",
   "metadata": {},
   "source": [
    "Optimization of c value"
   ]
  },
  {
   "cell_type": "code",
   "execution_count": 22,
   "metadata": {
    "scrolled": true
   },
   "outputs": [
    {
     "name": "stdout",
     "output_type": "stream",
     "text": [
      "C value of 0.01\n",
      "Train Score: 0.5256258390586749 CV Score: 0.5169762214598368\n",
      "Train Accuracy: 0.39516712487339023 CV Accuracy: 0.3921440972222222\n",
      "--------------------------------------------------\n",
      "C value of 0.1\n",
      "Train Score: 0.7474708546102706 CV Score: 0.7388117283950617\n",
      "Train Accuracy: 0.5992620460136016 CV Accuracy: 0.5941840277777778\n",
      "--------------------------------------------------\n",
      "C value of 1\n",
      "Train Score: 0.8233583573187738 CV Score: 0.8015675097969361\n",
      "Train Accuracy: 0.6941108377948199 CV Accuracy: 0.6694878472222222\n",
      "--------------------------------------------------\n",
      "C value of 10\n",
      "Train Score: 0.8546954314720813 CV Score: 0.7983375183998614\n",
      "Train Accuracy: 0.7311532339748228 CV Accuracy: 0.6506076388888888\n",
      "--------------------------------------------------\n",
      "C value of 100\n",
      "Train Score: 0.8709668232948883 CV Score: 0.7839658848614073\n",
      "Train Accuracy: 0.7485892056142381 CV Accuracy: 0.6228298611111112\n",
      "--------------------------------------------------\n"
     ]
    }
   ],
   "source": [
    "import warnings\n",
    "warnings.filterwarnings('ignore')\n",
    "\n",
    "C_range = [0.01, 0.1, 1, 10, 100]\n",
    "\n",
    "for c in C_range:\n",
    "    tfidf_best = TfidfVectorizer(tokenizer=identity_tokenizer, lowercase=False, ngram_range = (1,2), max_df = 1.0, max_features=1000)\n",
    "    X_best = tfidf_best.fit_transform(data.processed_text)\n",
    "\n",
    "    print('C value of {}'.format(c))\n",
    "    hp_tuner(X_best, LogisticRegression(C=c))"
   ]
  },
  {
   "cell_type": "markdown",
   "metadata": {},
   "source": [
    "Optimization of solver algorithm"
   ]
  },
  {
   "cell_type": "code",
   "execution_count": 23,
   "metadata": {},
   "outputs": [
    {
     "name": "stdout",
     "output_type": "stream",
     "text": [
      "Solver algorithm: newton-cg\n",
      "Train Score: 0.8233932704290545 CV Score: 0.8015675097969361\n",
      "Train Accuracy: 0.694183186224859 CV Accuracy: 0.6694878472222222\n",
      "--------------------------------------------------\n",
      "Solver algorithm: lbfgs\n",
      "Train Score: 0.8233583573187738 CV Score: 0.8015675097969361\n",
      "Train Accuracy: 0.6941108377948199 CV Accuracy: 0.6694878472222222\n",
      "--------------------------------------------------\n",
      "Solver algorithm: liblinear\n",
      "Train Score: 0.8236829615567157 CV Score: 0.801852346602547\n",
      "Train Accuracy: 0.6945449283750542 CV Accuracy: 0.669921875\n",
      "--------------------------------------------------\n",
      "Solver algorithm: sag\n",
      "Train Score: 0.8233932704290545 CV Score: 0.8015675097969361\n",
      "Train Accuracy: 0.694183186224859 CV Accuracy: 0.6694878472222222\n",
      "--------------------------------------------------\n",
      "Solver algorithm: saga\n",
      "Train Score: 0.8237807048771804 CV Score: 0.8020304568527918\n",
      "Train Accuracy: 0.6946896252351324 CV Accuracy: 0.6703559027777778\n",
      "--------------------------------------------------\n"
     ]
    }
   ],
   "source": [
    "solvers = ['newton-cg', 'lbfgs', 'liblinear', 'sag', 'saga']\n",
    "\n",
    "for solver in solvers:\n",
    "    print('Solver algorithm: {}'.format(solver))\n",
    "    hp_tuner(X_best, LogisticRegression(C=1, solver=solver))"
   ]
  },
  {
   "cell_type": "markdown",
   "metadata": {},
   "source": [
    "Model using Neural Network"
   ]
  },
  {
   "cell_type": "code",
   "execution_count": 25,
   "metadata": {
    "scrolled": true
   },
   "outputs": [
    {
     "name": "stdout",
     "output_type": "stream",
     "text": [
      "MLP\n",
      "Train Score: 0.9996945377801227 CV Score: 0.8016018107425786\n",
      "Train Accuracy: 0.9994935609897265 CV Accuracy: 0.65625\n",
      "--------------------------------------------------\n"
     ]
    }
   ],
   "source": [
    "from sklearn.neural_network import MLPClassifier\n",
    "\n",
    "print('MLP')\n",
    "hp_tuner(X_best, MLPClassifier())"
   ]
  },
  {
   "cell_type": "markdown",
   "metadata": {},
   "source": [
    "## 5. Model"
   ]
  },
  {
   "cell_type": "markdown",
   "metadata": {},
   "source": [
    "Final model"
   ]
  },
  {
   "cell_type": "code",
   "execution_count": 38,
   "metadata": {},
   "outputs": [
    {
     "name": "stdout",
     "output_type": "stream",
     "text": [
      "Test accuracy is 0.6701388888888888\n",
      "F1 Score is 0.8000356283958314\n",
      "\n"
     ]
    }
   ],
   "source": [
    "X_train, X_test, y_train, y_test = \\\n",
    "    train_test_split(X_best, data[onehot.columns], train_size=0.8, random_state=42)\n",
    "\n",
    "model = OneVsRestClassifier(LogisticRegression(C = 1, solver=\"saga\")).fit(X_train, y_train)\n",
    "prediction = model.predict(X_test)\n",
    "accuracy = accuracy_score(y_test, prediction)\n",
    "f1 = f1_score(y_test, prediction, average = 'micro')\n",
    "\n",
    "print('Test accuracy is {}'.format(accuracy))\n",
    "print('F1 Score is {}'.format(f1))\n",
    "print()"
   ]
  },
  {
   "cell_type": "markdown",
   "metadata": {},
   "source": [
    "Show first 5 predictions"
   ]
  },
  {
   "cell_type": "code",
   "execution_count": 40,
   "metadata": {},
   "outputs": [
    {
     "data": {
      "text/plain": [
       "array([[0, 0, 0, 0, 0, 1, 0, 0],\n",
       "       [0, 0, 0, 0, 0, 0, 0, 1],\n",
       "       [0, 0, 0, 0, 0, 0, 0, 1],\n",
       "       [0, 0, 0, 0, 0, 1, 0, 0],\n",
       "       [0, 0, 0, 0, 0, 1, 0, 0]])"
      ]
     },
     "execution_count": 40,
     "metadata": {},
     "output_type": "execute_result"
    }
   ],
   "source": [
    "prediction[:5]"
   ]
  },
  {
   "cell_type": "markdown",
   "metadata": {},
   "source": [
    "Confusion Matrix for each label"
   ]
  },
  {
   "cell_type": "code",
   "execution_count": 34,
   "metadata": {},
   "outputs": [
    {
     "data": {
      "text/plain": [
       "array([[[4148,   29],\n",
       "        [ 160,  271]],\n",
       "\n",
       "       [[3520,  147],\n",
       "        [ 326,  615]],\n",
       "\n",
       "       [[4498,   16],\n",
       "        [  49,   45]],\n",
       "\n",
       "       [[4530,    3],\n",
       "        [  63,   12]],\n",
       "\n",
       "       [[3835,   95],\n",
       "        [ 235,  443]],\n",
       "\n",
       "       [[2180,  222],\n",
       "        [ 250, 1956]],\n",
       "\n",
       "       [[4361,   30],\n",
       "        [ 148,   69]],\n",
       "\n",
       "       [[3057,  188],\n",
       "        [ 283, 1080]]])"
      ]
     },
     "execution_count": 34,
     "metadata": {},
     "output_type": "execute_result"
    }
   ],
   "source": [
    "from sklearn.metrics import multilabel_confusion_matrix\n",
    "\n",
    "multilabel_confusion_matrix(y_test, prediction)"
   ]
  },
  {
   "cell_type": "markdown",
   "metadata": {},
   "source": [
    "Model for each single label"
   ]
  },
  {
   "cell_type": "code",
   "execution_count": 37,
   "metadata": {},
   "outputs": [
    {
     "name": "stdout",
     "output_type": "stream",
     "text": [
      "Category: case_report\n",
      "Test accuracy is 0.958984375\n",
      "F1 Score is 0.958984375\n",
      "\n",
      "Category: diagnosis\n",
      "Test accuracy is 0.8971354166666666\n",
      "F1 Score is 0.8971354166666666\n",
      "\n",
      "Category: forecasting\n",
      "Test accuracy is 0.9858940972222222\n",
      "F1 Score is 0.9858940972222222\n",
      "\n",
      "Category: general\n",
      "Test accuracy is 0.9856770833333334\n",
      "F1 Score is 0.9856770833333334\n",
      "\n",
      "Category: mechanism\n",
      "Test accuracy is 0.9283854166666666\n",
      "F1 Score is 0.9283854166666666\n",
      "\n",
      "Category: prevention\n",
      "Test accuracy is 0.8975694444444444\n",
      "F1 Score is 0.8975694444444444\n",
      "\n",
      "Category: transmission\n",
      "Test accuracy is 0.9611545138888888\n",
      "F1 Score is 0.9611545138888888\n",
      "\n",
      "Category: treatment\n",
      "Test accuracy is 0.8977864583333334\n",
      "F1 Score is 0.8977864583333334\n",
      "\n"
     ]
    }
   ],
   "source": [
    "for category in onehot.columns:\n",
    "\n",
    "    model = LogisticRegression(C=1, solver=\"saga\").fit(X_train, y_train[category])\n",
    "    prediction = model.predict(X_test)\n",
    "\n",
    "    print('Category: {}'.format(category))\n",
    "    print('Test accuracy is {}'.format(accuracy_score(y_test[category], prediction)))\n",
    "    print('F1 Score is {}'.format(f1_score(y_test[category], prediction, average='micro')))\n",
    "    print()"
   ]
  }
 ],
 "metadata": {
  "kernelspec": {
   "display_name": "Python 3",
   "language": "python",
   "name": "python3"
  },
  "language_info": {
   "codemirror_mode": {
    "name": "ipython",
    "version": 3
   },
   "file_extension": ".py",
   "mimetype": "text/x-python",
   "name": "python",
   "nbconvert_exporter": "python",
   "pygments_lexer": "ipython3",
   "version": "3.8.3"
  }
 },
 "nbformat": 4,
 "nbformat_minor": 4
}
