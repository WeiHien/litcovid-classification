{
 "cells": [
  {
   "cell_type": "markdown",
   "metadata": {},
   "source": [
    "# ML Assignment - LitCovid"
   ]
  },
  {
   "cell_type": "markdown",
   "metadata": {},
   "source": [
    "## Load Data"
   ]
  },
  {
   "cell_type": "code",
   "execution_count": 1,
   "metadata": {},
   "outputs": [],
   "source": [
    "import pandas as pd\n",
    "import numpy as np"
   ]
  },
  {
   "cell_type": "code",
   "execution_count": 23,
   "metadata": {},
   "outputs": [
    {
     "data": {
      "text/html": [
       "<div>\n",
       "<style scoped>\n",
       "    .dataframe tbody tr th:only-of-type {\n",
       "        vertical-align: middle;\n",
       "    }\n",
       "\n",
       "    .dataframe tbody tr th {\n",
       "        vertical-align: top;\n",
       "    }\n",
       "\n",
       "    .dataframe thead th {\n",
       "        text-align: right;\n",
       "    }\n",
       "</style>\n",
       "<table border=\"1\" class=\"dataframe\">\n",
       "  <thead>\n",
       "    <tr style=\"text-align: right;\">\n",
       "      <th></th>\n",
       "      <th>Unnamed: 0</th>\n",
       "      <th>pmid</th>\n",
       "      <th>title</th>\n",
       "      <th>text</th>\n",
       "      <th>clean_doc</th>\n",
       "      <th>clean_doc_tokenized</th>\n",
       "      <th>human_label</th>\n",
       "      <th>label</th>\n",
       "    </tr>\n",
       "  </thead>\n",
       "  <tbody>\n",
       "    <tr>\n",
       "      <th>0</th>\n",
       "      <td>0</td>\n",
       "      <td>32574291</td>\n",
       "      <td>The Battle Against COVID-19 in Jordan: An Earl...</td>\n",
       "      <td>The Battle Against COVID-19 in Jordan: An Earl...</td>\n",
       "      <td>the battle against covid-19 in jordan : an ear...</td>\n",
       "      <td>[['the', 'battle', 'against', 'covid-19', 'in'...</td>\n",
       "      <td>prevention</td>\n",
       "      <td>1000</td>\n",
       "    </tr>\n",
       "    <tr>\n",
       "      <th>1</th>\n",
       "      <td>1</td>\n",
       "      <td>32409107</td>\n",
       "      <td>Resumption of activity in gastroenterology dep...</td>\n",
       "      <td>Restablecimiento de la actividad en los servic...</td>\n",
       "      <td>restablecimiento de la actividad en los servic...</td>\n",
       "      <td>[['restablecimiento', 'de', 'la', 'actividad',...</td>\n",
       "      <td>prevention</td>\n",
       "      <td>1000</td>\n",
       "    </tr>\n",
       "    <tr>\n",
       "      <th>2</th>\n",
       "      <td>2</td>\n",
       "      <td>32432804</td>\n",
       "      <td>Impact of severe acute respiratory syndrome on...</td>\n",
       "      <td>Impact of Severe Acute Respiratory Syndrome (S...</td>\n",
       "      <td>impact of severe acute respiratory syndrome ( ...</td>\n",
       "      <td>[['impact', 'of', 'severe', 'acute', 'respirat...</td>\n",
       "      <td>prevention</td>\n",
       "      <td>1000</td>\n",
       "    </tr>\n",
       "    <tr>\n",
       "      <th>3</th>\n",
       "      <td>3</td>\n",
       "      <td>32637365</td>\n",
       "      <td>Participation of the IL-10RB Related Cytokines...</td>\n",
       "      <td>Participation of the IL-10RB Related Cytokines...</td>\n",
       "      <td>participation of the il-10rb related cytokines...</td>\n",
       "      <td>[['participation', 'of', 'the', 'il-10rb', 're...</td>\n",
       "      <td>treatment, mechanism</td>\n",
       "      <td>1100000</td>\n",
       "    </tr>\n",
       "    <tr>\n",
       "      <th>4</th>\n",
       "      <td>4</td>\n",
       "      <td>32061198</td>\n",
       "      <td>[Inhibitors of RAS Might Be a Good Choice for ...</td>\n",
       "      <td>[Inhibitors of RAS Might Be a Good Choice for ...</td>\n",
       "      <td>[ inhibitors of ras might be a good choice for...</td>\n",
       "      <td>[['[', 'inhibitors', 'of', 'ras', 'might', 'be...</td>\n",
       "      <td>treatment, mechanism</td>\n",
       "      <td>1100000</td>\n",
       "    </tr>\n",
       "    <tr>\n",
       "      <th>...</th>\n",
       "      <td>...</td>\n",
       "      <td>...</td>\n",
       "      <td>...</td>\n",
       "      <td>...</td>\n",
       "      <td>...</td>\n",
       "      <td>...</td>\n",
       "      <td>...</td>\n",
       "      <td>...</td>\n",
       "    </tr>\n",
       "    <tr>\n",
       "      <th>23033</th>\n",
       "      <td>10205</td>\n",
       "      <td>32367847</td>\n",
       "      <td>Nasopharyngeal wash in preventing and treating...</td>\n",
       "      <td>Nasopharyngeal wash in preventing and treating...</td>\n",
       "      <td>nasopharyngeal wash in preventing and treating...</td>\n",
       "      <td>[['nasopharyngeal', 'wash', 'in', 'preventing'...</td>\n",
       "      <td>treatment, prevention</td>\n",
       "      <td>1001000</td>\n",
       "    </tr>\n",
       "    <tr>\n",
       "      <th>23034</th>\n",
       "      <td>10206</td>\n",
       "      <td>32615866</td>\n",
       "      <td>C-reactive protein, procalcitonin, D-dimer, an...</td>\n",
       "      <td>C-reactive protein, procalcitonin, D-dimer, an...</td>\n",
       "      <td>c-reactive protein , procalcitonin , d-dimer ,...</td>\n",
       "      <td>[['c-reactive', 'protein', ',', 'procalcitonin...</td>\n",
       "      <td>diagnosis, treatment</td>\n",
       "      <td>11000000</td>\n",
       "    </tr>\n",
       "    <tr>\n",
       "      <th>23035</th>\n",
       "      <td>10207</td>\n",
       "      <td>32459672</td>\n",
       "      <td>Routine Venous Thromboembolism Prophylaxis May...</td>\n",
       "      <td>Routine Venous Thromboembolism Prophylaxis May...</td>\n",
       "      <td>routine venous thromboembolism prophylaxis may...</td>\n",
       "      <td>[['routine', 'venous', 'thromboembolism', 'pro...</td>\n",
       "      <td>diagnosis, treatment</td>\n",
       "      <td>11000000</td>\n",
       "    </tr>\n",
       "    <tr>\n",
       "      <th>23036</th>\n",
       "      <td>10208</td>\n",
       "      <td>32686633</td>\n",
       "      <td>QT interval evaluation associated with the use...</td>\n",
       "      <td>QT interval evaluation associated with the use...</td>\n",
       "      <td>qt interval evaluation associated with the use...</td>\n",
       "      <td>[['qt', 'interval', 'evaluation', 'associated'...</td>\n",
       "      <td>diagnosis, treatment</td>\n",
       "      <td>11000000</td>\n",
       "    </tr>\n",
       "    <tr>\n",
       "      <th>23037</th>\n",
       "      <td>10209</td>\n",
       "      <td>32370065</td>\n",
       "      <td>Hybridization Chain Reactions Targeting the Se...</td>\n",
       "      <td>Hybridization Chain Reactions Targeting the Se...</td>\n",
       "      <td>hybridization chain reactions targeting the se...</td>\n",
       "      <td>[['hybridization', 'chain', 'reactions', 'targ...</td>\n",
       "      <td>diagnosis, mechanism</td>\n",
       "      <td>10100000</td>\n",
       "    </tr>\n",
       "  </tbody>\n",
       "</table>\n",
       "<p>23038 rows × 8 columns</p>\n",
       "</div>"
      ],
      "text/plain": [
       "       Unnamed: 0      pmid  \\\n",
       "0               0  32574291   \n",
       "1               1  32409107   \n",
       "2               2  32432804   \n",
       "3               3  32637365   \n",
       "4               4  32061198   \n",
       "...           ...       ...   \n",
       "23033       10205  32367847   \n",
       "23034       10206  32615866   \n",
       "23035       10207  32459672   \n",
       "23036       10208  32686633   \n",
       "23037       10209  32370065   \n",
       "\n",
       "                                                   title  \\\n",
       "0      The Battle Against COVID-19 in Jordan: An Earl...   \n",
       "1      Resumption of activity in gastroenterology dep...   \n",
       "2      Impact of severe acute respiratory syndrome on...   \n",
       "3      Participation of the IL-10RB Related Cytokines...   \n",
       "4      [Inhibitors of RAS Might Be a Good Choice for ...   \n",
       "...                                                  ...   \n",
       "23033  Nasopharyngeal wash in preventing and treating...   \n",
       "23034  C-reactive protein, procalcitonin, D-dimer, an...   \n",
       "23035  Routine Venous Thromboembolism Prophylaxis May...   \n",
       "23036  QT interval evaluation associated with the use...   \n",
       "23037  Hybridization Chain Reactions Targeting the Se...   \n",
       "\n",
       "                                                    text  \\\n",
       "0      The Battle Against COVID-19 in Jordan: An Earl...   \n",
       "1      Restablecimiento de la actividad en los servic...   \n",
       "2      Impact of Severe Acute Respiratory Syndrome (S...   \n",
       "3      Participation of the IL-10RB Related Cytokines...   \n",
       "4      [Inhibitors of RAS Might Be a Good Choice for ...   \n",
       "...                                                  ...   \n",
       "23033  Nasopharyngeal wash in preventing and treating...   \n",
       "23034  C-reactive protein, procalcitonin, D-dimer, an...   \n",
       "23035  Routine Venous Thromboembolism Prophylaxis May...   \n",
       "23036  QT interval evaluation associated with the use...   \n",
       "23037  Hybridization Chain Reactions Targeting the Se...   \n",
       "\n",
       "                                               clean_doc  \\\n",
       "0      the battle against covid-19 in jordan : an ear...   \n",
       "1      restablecimiento de la actividad en los servic...   \n",
       "2      impact of severe acute respiratory syndrome ( ...   \n",
       "3      participation of the il-10rb related cytokines...   \n",
       "4      [ inhibitors of ras might be a good choice for...   \n",
       "...                                                  ...   \n",
       "23033  nasopharyngeal wash in preventing and treating...   \n",
       "23034  c-reactive protein , procalcitonin , d-dimer ,...   \n",
       "23035  routine venous thromboembolism prophylaxis may...   \n",
       "23036  qt interval evaluation associated with the use...   \n",
       "23037  hybridization chain reactions targeting the se...   \n",
       "\n",
       "                                     clean_doc_tokenized  \\\n",
       "0      [['the', 'battle', 'against', 'covid-19', 'in'...   \n",
       "1      [['restablecimiento', 'de', 'la', 'actividad',...   \n",
       "2      [['impact', 'of', 'severe', 'acute', 'respirat...   \n",
       "3      [['participation', 'of', 'the', 'il-10rb', 're...   \n",
       "4      [['[', 'inhibitors', 'of', 'ras', 'might', 'be...   \n",
       "...                                                  ...   \n",
       "23033  [['nasopharyngeal', 'wash', 'in', 'preventing'...   \n",
       "23034  [['c-reactive', 'protein', ',', 'procalcitonin...   \n",
       "23035  [['routine', 'venous', 'thromboembolism', 'pro...   \n",
       "23036  [['qt', 'interval', 'evaluation', 'associated'...   \n",
       "23037  [['hybridization', 'chain', 'reactions', 'targ...   \n",
       "\n",
       "                 human_label     label  \n",
       "0                 prevention      1000  \n",
       "1                 prevention      1000  \n",
       "2                 prevention      1000  \n",
       "3       treatment, mechanism   1100000  \n",
       "4       treatment, mechanism   1100000  \n",
       "...                      ...       ...  \n",
       "23033  treatment, prevention   1001000  \n",
       "23034   diagnosis, treatment  11000000  \n",
       "23035   diagnosis, treatment  11000000  \n",
       "23036   diagnosis, treatment  11000000  \n",
       "23037   diagnosis, mechanism  10100000  \n",
       "\n",
       "[23038 rows x 8 columns]"
      ]
     },
     "execution_count": 23,
     "metadata": {},
     "output_type": "execute_result"
    }
   ],
   "source": [
    "train_set = pd.read_csv(\"data/LitCovid.train.csv\", sep=',')\n",
    "test_set = pd.read_csv(\"data/LitCovid.test.csv\", sep=',')\n",
    "dev_set = pd.read_csv(\"data/LitCovid.dev.csv\", sep=',')\n",
    "\n",
    "data = pd.concat([train_set, test_set, dev_set], ignore_index=True)\n",
    "data"
   ]
  },
  {
   "cell_type": "code",
   "execution_count": 24,
   "metadata": {},
   "outputs": [
    {
     "data": {
      "text/html": [
       "<div>\n",
       "<style scoped>\n",
       "    .dataframe tbody tr th:only-of-type {\n",
       "        vertical-align: middle;\n",
       "    }\n",
       "\n",
       "    .dataframe tbody tr th {\n",
       "        vertical-align: top;\n",
       "    }\n",
       "\n",
       "    .dataframe thead th {\n",
       "        text-align: right;\n",
       "    }\n",
       "</style>\n",
       "<table border=\"1\" class=\"dataframe\">\n",
       "  <thead>\n",
       "    <tr style=\"text-align: right;\">\n",
       "      <th></th>\n",
       "      <th>title</th>\n",
       "      <th>text</th>\n",
       "      <th>clean_doc</th>\n",
       "      <th>clean_doc_tokenized</th>\n",
       "      <th>human_label</th>\n",
       "    </tr>\n",
       "  </thead>\n",
       "  <tbody>\n",
       "    <tr>\n",
       "      <th>count</th>\n",
       "      <td>23034</td>\n",
       "      <td>23038</td>\n",
       "      <td>23038</td>\n",
       "      <td>23038</td>\n",
       "      <td>23038</td>\n",
       "    </tr>\n",
       "    <tr>\n",
       "      <th>unique</th>\n",
       "      <td>22938</td>\n",
       "      <td>23013</td>\n",
       "      <td>23006</td>\n",
       "      <td>23006</td>\n",
       "      <td>54</td>\n",
       "    </tr>\n",
       "    <tr>\n",
       "      <th>top</th>\n",
       "      <td>CORONA-steps for tracheotomy in COVID-19 patie...</td>\n",
       "      <td>Novel coronavirus disease (COVID-19) outbreak:...</td>\n",
       "      <td>[ pulmonary rehabilitation guidelines in the p...</td>\n",
       "      <td>[['impact', 'of', 'the', 'covid-19', 'pandemic...</td>\n",
       "      <td>prevention</td>\n",
       "    </tr>\n",
       "    <tr>\n",
       "      <th>freq</th>\n",
       "      <td>4</td>\n",
       "      <td>2</td>\n",
       "      <td>2</td>\n",
       "      <td>2</td>\n",
       "      <td>9327</td>\n",
       "    </tr>\n",
       "  </tbody>\n",
       "</table>\n",
       "</div>"
      ],
      "text/plain": [
       "                                                    title  \\\n",
       "count                                               23034   \n",
       "unique                                              22938   \n",
       "top     CORONA-steps for tracheotomy in COVID-19 patie...   \n",
       "freq                                                    4   \n",
       "\n",
       "                                                     text  \\\n",
       "count                                               23038   \n",
       "unique                                              23013   \n",
       "top     Novel coronavirus disease (COVID-19) outbreak:...   \n",
       "freq                                                    2   \n",
       "\n",
       "                                                clean_doc  \\\n",
       "count                                               23038   \n",
       "unique                                              23006   \n",
       "top     [ pulmonary rehabilitation guidelines in the p...   \n",
       "freq                                                    2   \n",
       "\n",
       "                                      clean_doc_tokenized human_label  \n",
       "count                                               23038       23038  \n",
       "unique                                              23006          54  \n",
       "top     [['impact', 'of', 'the', 'covid-19', 'pandemic...  prevention  \n",
       "freq                                                    2        9327  "
      ]
     },
     "execution_count": 24,
     "metadata": {},
     "output_type": "execute_result"
    }
   ],
   "source": [
    "data.describe(include = 'object')"
   ]
  },
  {
   "cell_type": "markdown",
   "metadata": {},
   "source": [
    "## Exploring"
   ]
  },
  {
   "cell_type": "code",
   "execution_count": 15,
   "metadata": {},
   "outputs": [
    {
     "data": {
      "text/plain": [
       "array(['prevention', 'treatment, mechanism', 'transmission, prevention',\n",
       "       'case_report', 'mechanism', 'general', 'diagnosis, treatment',\n",
       "       'diagnosis', 'transmission', 'treatment', 'treatment, prevention',\n",
       "       'mechanism, transmission',\n",
       "       'diagnosis, treatment, mechanism, transmission, prevention',\n",
       "       'diagnosis, prevention', 'diagnosis, transmission',\n",
       "       'diagnosis, treatment, prevention',\n",
       "       'diagnosis, transmission, prevention', 'diagnosis, mechanism',\n",
       "       'mechanism, transmission, prevention',\n",
       "       'diagnosis, treatment, mechanism', 'prevention, forecasting',\n",
       "       'treatment, transmission, prevention',\n",
       "       'treatment, mechanism, prevention', 'forecasting',\n",
       "       'diagnosis, treatment, mechanism, prevention',\n",
       "       'diagnosis, forecasting', 'mechanism, prevention',\n",
       "       'diagnosis, treatment, transmission, prevention',\n",
       "       'transmission, forecasting', 'diagnosis, mechanism, prevention',\n",
       "       'diagnosis, mechanism, transmission',\n",
       "       'diagnosis, treatment, mechanism, transmission',\n",
       "       'diagnosis, treatment, transmission', 'diagnosis, case_report',\n",
       "       'transmission, prevention, forecasting', 'treatment, transmission',\n",
       "       'treatment, mechanism, transmission',\n",
       "       'treatment, mechanism, transmission, prevention',\n",
       "       'treatment, forecasting', 'mechanism, transmission, forecasting',\n",
       "       'mechanism, prevention, forecasting',\n",
       "       'diagnosis, mechanism, transmission, prevention',\n",
       "       'treatment, case_report', 'prevention, general',\n",
       "       'transmission, prevention, case_report', 'mechanism, forecasting',\n",
       "       'diagnosis, mechanism, prevention, forecasting',\n",
       "       'treatment, mechanism, forecasting',\n",
       "       'diagnosis, treatment, prevention, forecasting',\n",
       "       'treatment, prevention, forecasting',\n",
       "       'treatment, mechanism, transmission, forecasting',\n",
       "       'mechanism, case_report', 'diagnosis, prevention, forecasting',\n",
       "       'prevention, case_report'], dtype=object)"
      ]
     },
     "execution_count": 15,
     "metadata": {},
     "output_type": "execute_result"
    }
   ],
   "source": [
    "data.human_label.unique()"
   ]
  },
  {
   "cell_type": "code",
   "execution_count": 16,
   "metadata": {},
   "outputs": [],
   "source": [
    "# One-hot encoding\n",
    "onehot = (data.human_label.str.split(r'\\s*,\\s*', expand=True)\n",
    "   .apply(pd.Series.value_counts, 1)\n",
    "   .iloc[:, 0:]\n",
    "   .fillna(0, downcast='infer'))"
   ]
  },
  {
   "cell_type": "code",
   "execution_count": 17,
   "metadata": {},
   "outputs": [
    {
     "data": {
      "text/plain": [
       "case_report      1914\n",
       "diagnosis        4754\n",
       "forecasting       461\n",
       "general           368\n",
       "mechanism        3549\n",
       "prevention      11042\n",
       "transmission     1065\n",
       "treatment        6897\n",
       "dtype: int64"
      ]
     },
     "execution_count": 17,
     "metadata": {},
     "output_type": "execute_result"
    }
   ],
   "source": [
    "onehot.sum()"
   ]
  },
  {
   "cell_type": "code",
   "execution_count": 18,
   "metadata": {},
   "outputs": [
    {
     "data": {
      "text/plain": [
       "<matplotlib.axes._subplots.AxesSubplot at 0x7f25a8661130>"
      ]
     },
     "execution_count": 18,
     "metadata": {},
     "output_type": "execute_result"
    },
    {
     "data": {
      "image/png": "[encoded data removed]",
      "text/plain": [
       "<Figure size 576x360 with 1 Axes>"
      ]
     },
     "metadata": {
      "needs_background": "light"
     },
     "output_type": "display_data"
    }
   ],
   "source": [
    "onehot.sum().plot(kind='bar', legend=False, grid=True, figsize=(8, 5))"
   ]
  },
  {
   "cell_type": "code",
   "execution_count": 19,
   "metadata": {},
   "outputs": [
    {
     "data": {
      "text/plain": [
       "1    16946\n",
       "2     5324\n",
       "3      636\n",
       "4      112\n",
       "5       20\n",
       "dtype: int64"
      ]
     },
     "execution_count": 19,
     "metadata": {},
     "output_type": "execute_result"
    }
   ],
   "source": [
    "onehot.sum(axis=1).value_counts()"
   ]
  },
  {
   "cell_type": "code",
   "execution_count": 20,
   "metadata": {},
   "outputs": [
    {
     "data": {
      "text/plain": [
       "<matplotlib.axes._subplots.AxesSubplot at 0x7f25a84bf2e0>"
      ]
     },
     "execution_count": 20,
     "metadata": {},
     "output_type": "execute_result"
    },
    {
     "data": {
      "image/png": "[encoded data removed]",
      "text/plain": [
       "<Figure size 576x360 with 1 Axes>"
      ]
     },
     "metadata": {
      "needs_background": "light"
     },
     "output_type": "display_data"
    }
   ],
   "source": [
    "onehot.sum(axis=1).value_counts().plot(kind='bar', legend=False, grid=True, figsize=(8, 5))"
   ]
  },
  {
   "cell_type": "code",
   "execution_count": 21,
   "metadata": {},
   "outputs": [
    {
     "data": {
      "text/plain": [
       "count     23038.000000\n",
       "mean       9598.053173\n",
       "std       13640.951549\n",
       "min         171.000000\n",
       "25%        1353.000000\n",
       "50%        2902.500000\n",
       "75%       12530.250000\n",
       "max      166027.000000\n",
       "Name: text, dtype: float64"
      ]
     },
     "execution_count": 21,
     "metadata": {},
     "output_type": "execute_result"
    }
   ],
   "source": [
    "lens = data.text.str.len()\n",
    "lens.describe()"
   ]
  },
  {
   "cell_type": "code",
   "execution_count": 22,
   "metadata": {},
   "outputs": [
    {
     "data": {
      "text/plain": [
       "<matplotlib.axes._subplots.AxesSubplot at 0x7f25a7c7a8b0>"
      ]
     },
     "execution_count": 22,
     "metadata": {},
     "output_type": "execute_result"
    },
    {
     "data": {
      "image/png": "[encoded data removed]",
      "text/plain": [
       "<Figure size 432x288 with 1 Axes>"
      ]
     },
     "metadata": {
      "needs_background": "light"
     },
     "output_type": "display_data"
    }
   ],
   "source": [
    "lens.hist(bins = np.arange(0,170000,1000))"
   ]
  },
  {
   "cell_type": "markdown",
   "metadata": {},
   "source": [
    "## Preprocess"
   ]
  },
  {
   "cell_type": "code",
   "execution_count": 25,
   "metadata": {},
   "outputs": [
    {
     "data": {
      "text/html": [
       "<div>\n",
       "<style scoped>\n",
       "    .dataframe tbody tr th:only-of-type {\n",
       "        vertical-align: middle;\n",
       "    }\n",
       "\n",
       "    .dataframe tbody tr th {\n",
       "        vertical-align: top;\n",
       "    }\n",
       "\n",
       "    .dataframe thead th {\n",
       "        text-align: right;\n",
       "    }\n",
       "</style>\n",
       "<table border=\"1\" class=\"dataframe\">\n",
       "  <thead>\n",
       "    <tr style=\"text-align: right;\">\n",
       "      <th></th>\n",
       "      <th>title</th>\n",
       "      <th>text</th>\n",
       "      <th>case_report</th>\n",
       "      <th>diagnosis</th>\n",
       "      <th>forecasting</th>\n",
       "      <th>general</th>\n",
       "      <th>mechanism</th>\n",
       "      <th>prevention</th>\n",
       "      <th>transmission</th>\n",
       "      <th>treatment</th>\n",
       "    </tr>\n",
       "  </thead>\n",
       "  <tbody>\n",
       "    <tr>\n",
       "      <th>0</th>\n",
       "      <td>The Battle Against COVID-19 in Jordan: An Earl...</td>\n",
       "      <td>The Battle Against COVID-19 in Jordan: An Earl...</td>\n",
       "      <td>0</td>\n",
       "      <td>0</td>\n",
       "      <td>0</td>\n",
       "      <td>0</td>\n",
       "      <td>0</td>\n",
       "      <td>1</td>\n",
       "      <td>0</td>\n",
       "      <td>0</td>\n",
       "    </tr>\n",
       "    <tr>\n",
       "      <th>1</th>\n",
       "      <td>Resumption of activity in gastroenterology dep...</td>\n",
       "      <td>Restablecimiento de la actividad en los servic...</td>\n",
       "      <td>0</td>\n",
       "      <td>0</td>\n",
       "      <td>0</td>\n",
       "      <td>0</td>\n",
       "      <td>0</td>\n",
       "      <td>1</td>\n",
       "      <td>0</td>\n",
       "      <td>0</td>\n",
       "    </tr>\n",
       "    <tr>\n",
       "      <th>2</th>\n",
       "      <td>Impact of severe acute respiratory syndrome on...</td>\n",
       "      <td>Impact of Severe Acute Respiratory Syndrome (S...</td>\n",
       "      <td>0</td>\n",
       "      <td>0</td>\n",
       "      <td>0</td>\n",
       "      <td>0</td>\n",
       "      <td>0</td>\n",
       "      <td>1</td>\n",
       "      <td>0</td>\n",
       "      <td>0</td>\n",
       "    </tr>\n",
       "    <tr>\n",
       "      <th>3</th>\n",
       "      <td>Participation of the IL-10RB Related Cytokines...</td>\n",
       "      <td>Participation of the IL-10RB Related Cytokines...</td>\n",
       "      <td>0</td>\n",
       "      <td>0</td>\n",
       "      <td>0</td>\n",
       "      <td>0</td>\n",
       "      <td>1</td>\n",
       "      <td>0</td>\n",
       "      <td>0</td>\n",
       "      <td>1</td>\n",
       "    </tr>\n",
       "    <tr>\n",
       "      <th>4</th>\n",
       "      <td>[Inhibitors of RAS Might Be a Good Choice for ...</td>\n",
       "      <td>[Inhibitors of RAS Might Be a Good Choice for ...</td>\n",
       "      <td>0</td>\n",
       "      <td>0</td>\n",
       "      <td>0</td>\n",
       "      <td>0</td>\n",
       "      <td>1</td>\n",
       "      <td>0</td>\n",
       "      <td>0</td>\n",
       "      <td>1</td>\n",
       "    </tr>\n",
       "    <tr>\n",
       "      <th>...</th>\n",
       "      <td>...</td>\n",
       "      <td>...</td>\n",
       "      <td>...</td>\n",
       "      <td>...</td>\n",
       "      <td>...</td>\n",
       "      <td>...</td>\n",
       "      <td>...</td>\n",
       "      <td>...</td>\n",
       "      <td>...</td>\n",
       "      <td>...</td>\n",
       "    </tr>\n",
       "    <tr>\n",
       "      <th>23033</th>\n",
       "      <td>Nasopharyngeal wash in preventing and treating...</td>\n",
       "      <td>Nasopharyngeal wash in preventing and treating...</td>\n",
       "      <td>0</td>\n",
       "      <td>0</td>\n",
       "      <td>0</td>\n",
       "      <td>0</td>\n",
       "      <td>0</td>\n",
       "      <td>1</td>\n",
       "      <td>0</td>\n",
       "      <td>1</td>\n",
       "    </tr>\n",
       "    <tr>\n",
       "      <th>23034</th>\n",
       "      <td>C-reactive protein, procalcitonin, D-dimer, an...</td>\n",
       "      <td>C-reactive protein, procalcitonin, D-dimer, an...</td>\n",
       "      <td>0</td>\n",
       "      <td>1</td>\n",
       "      <td>0</td>\n",
       "      <td>0</td>\n",
       "      <td>0</td>\n",
       "      <td>0</td>\n",
       "      <td>0</td>\n",
       "      <td>1</td>\n",
       "    </tr>\n",
       "    <tr>\n",
       "      <th>23035</th>\n",
       "      <td>Routine Venous Thromboembolism Prophylaxis May...</td>\n",
       "      <td>Routine Venous Thromboembolism Prophylaxis May...</td>\n",
       "      <td>0</td>\n",
       "      <td>1</td>\n",
       "      <td>0</td>\n",
       "      <td>0</td>\n",
       "      <td>0</td>\n",
       "      <td>0</td>\n",
       "      <td>0</td>\n",
       "      <td>1</td>\n",
       "    </tr>\n",
       "    <tr>\n",
       "      <th>23036</th>\n",
       "      <td>QT interval evaluation associated with the use...</td>\n",
       "      <td>QT interval evaluation associated with the use...</td>\n",
       "      <td>0</td>\n",
       "      <td>1</td>\n",
       "      <td>0</td>\n",
       "      <td>0</td>\n",
       "      <td>0</td>\n",
       "      <td>0</td>\n",
       "      <td>0</td>\n",
       "      <td>1</td>\n",
       "    </tr>\n",
       "    <tr>\n",
       "      <th>23037</th>\n",
       "      <td>Hybridization Chain Reactions Targeting the Se...</td>\n",
       "      <td>Hybridization Chain Reactions Targeting the Se...</td>\n",
       "      <td>0</td>\n",
       "      <td>1</td>\n",
       "      <td>0</td>\n",
       "      <td>0</td>\n",
       "      <td>1</td>\n",
       "      <td>0</td>\n",
       "      <td>0</td>\n",
       "      <td>0</td>\n",
       "    </tr>\n",
       "  </tbody>\n",
       "</table>\n",
       "<p>23038 rows × 10 columns</p>\n",
       "</div>"
      ],
      "text/plain": [
       "                                                   title  \\\n",
       "0      The Battle Against COVID-19 in Jordan: An Earl...   \n",
       "1      Resumption of activity in gastroenterology dep...   \n",
       "2      Impact of severe acute respiratory syndrome on...   \n",
       "3      Participation of the IL-10RB Related Cytokines...   \n",
       "4      [Inhibitors of RAS Might Be a Good Choice for ...   \n",
       "...                                                  ...   \n",
       "23033  Nasopharyngeal wash in preventing and treating...   \n",
       "23034  C-reactive protein, procalcitonin, D-dimer, an...   \n",
       "23035  Routine Venous Thromboembolism Prophylaxis May...   \n",
       "23036  QT interval evaluation associated with the use...   \n",
       "23037  Hybridization Chain Reactions Targeting the Se...   \n",
       "\n",
       "                                                    text  case_report  \\\n",
       "0      The Battle Against COVID-19 in Jordan: An Earl...            0   \n",
       "1      Restablecimiento de la actividad en los servic...            0   \n",
       "2      Impact of Severe Acute Respiratory Syndrome (S...            0   \n",
       "3      Participation of the IL-10RB Related Cytokines...            0   \n",
       "4      [Inhibitors of RAS Might Be a Good Choice for ...            0   \n",
       "...                                                  ...          ...   \n",
       "23033  Nasopharyngeal wash in preventing and treating...            0   \n",
       "23034  C-reactive protein, procalcitonin, D-dimer, an...            0   \n",
       "23035  Routine Venous Thromboembolism Prophylaxis May...            0   \n",
       "23036  QT interval evaluation associated with the use...            0   \n",
       "23037  Hybridization Chain Reactions Targeting the Se...            0   \n",
       "\n",
       "       diagnosis  forecasting  general  mechanism  prevention  transmission  \\\n",
       "0              0            0        0          0           1             0   \n",
       "1              0            0        0          0           1             0   \n",
       "2              0            0        0          0           1             0   \n",
       "3              0            0        0          1           0             0   \n",
       "4              0            0        0          1           0             0   \n",
       "...          ...          ...      ...        ...         ...           ...   \n",
       "23033          0            0        0          0           1             0   \n",
       "23034          1            0        0          0           0             0   \n",
       "23035          1            0        0          0           0             0   \n",
       "23036          1            0        0          0           0             0   \n",
       "23037          1            0        0          1           0             0   \n",
       "\n",
       "       treatment  \n",
       "0              0  \n",
       "1              0  \n",
       "2              0  \n",
       "3              1  \n",
       "4              1  \n",
       "...          ...  \n",
       "23033          1  \n",
       "23034          1  \n",
       "23035          1  \n",
       "23036          1  \n",
       "23037          0  \n",
       "\n",
       "[23038 rows x 10 columns]"
      ]
     },
     "execution_count": 25,
     "metadata": {},
     "output_type": "execute_result"
    }
   ],
   "source": [
    "data = pd.concat([data, onehot], axis=1)\n",
    "data = data.drop(['Unnamed: 0', 'pmid', 'clean_doc', 'clean_doc_tokenized', 'label', 'human_label'], axis=1)\n",
    "data"
   ]
  },
  {
   "cell_type": "code",
   "execution_count": 26,
   "metadata": {},
   "outputs": [
    {
     "data": {
      "text/plain": [
       "['THE',\n",
       " 'BATTLE',\n",
       " 'AGAINST',\n",
       " 'COVID-19',\n",
       " 'IN',\n",
       " 'JORDAN',\n",
       " ':',\n",
       " 'AN',\n",
       " 'EARLY',\n",
       " 'OVERVIEW',\n",
       " 'OF',\n",
       " 'THE',\n",
       " 'JORDANIAN',\n",
       " 'EXPERIENCE',\n",
       " '.']"
      ]
     },
     "execution_count": 26,
     "metadata": {},
     "output_type": "execute_result"
    }
   ],
   "source": [
    "import nltk\n",
    "\n",
    "# tokenize\n",
    "data['title'] = data['title'].astype(str)\n",
    "data['processed_title'] = [nltk.word_tokenize(title.upper()) for title in data['title']]\n",
    "[w for w in data['processed_title'][0]]"
   ]
  },
  {
   "cell_type": "code",
   "execution_count": 27,
   "metadata": {},
   "outputs": [
    {
     "data": {
      "text/plain": [
       "['THE',\n",
       " 'BATTLE',\n",
       " 'AGAINST',\n",
       " 'IN',\n",
       " 'JORDAN',\n",
       " 'AN',\n",
       " 'EARLY',\n",
       " 'OVERVIEW',\n",
       " 'OF',\n",
       " 'THE',\n",
       " 'JORDANIAN',\n",
       " 'EXPERIENCE']"
      ]
     },
     "execution_count": 27,
     "metadata": {},
     "output_type": "execute_result"
    }
   ],
   "source": [
    "# exclude non-alphanumeric\n",
    "data['processed_title'] = [[token for token in tokens if token.isalnum()] for tokens in data.processed_title]\n",
    "[w for w in data['processed_title'][0]]"
   ]
  },
  {
   "cell_type": "code",
   "execution_count": 28,
   "metadata": {},
   "outputs": [
    {
     "data": {
      "text/plain": [
       "['BATTLE', 'JORDAN', 'EARLY', 'OVERVIEW', 'JORDANIAN', 'EXPERIENCE']"
      ]
     },
     "execution_count": 28,
     "metadata": {},
     "output_type": "execute_result"
    }
   ],
   "source": [
    "# remove stopwords\n",
    "stopwords = nltk.corpus.stopwords.words(\"english\")\n",
    "data['processed_title'] = [[token for token in tokens if token.lower() not in stopwords] for tokens in data.processed_title]\n",
    "[w for w in data['processed_title'][0]]"
   ]
  },
  {
   "cell_type": "markdown",
   "metadata": {},
   "source": [
    "## Extract Features"
   ]
  },
  {
   "cell_type": "code",
   "execution_count": 29,
   "metadata": {},
   "outputs": [
    {
     "data": {
      "text/plain": [
       "['BATTLE',\n",
       " 'JORDAN',\n",
       " 'EARLY',\n",
       " 'OVERVIEW',\n",
       " 'JORDANIAN',\n",
       " 'EXPERIENCE',\n",
       " 'RESUMPTION',\n",
       " 'ACTIVITY',\n",
       " 'GASTROENTEROLOGY',\n",
       " 'DEPARTMENTS',\n",
       " 'RECOMMENDATIONS',\n",
       " 'SEPD',\n",
       " 'AEEH',\n",
       " 'GETECCU',\n",
       " 'AEG',\n",
       " 'IMPACT',\n",
       " 'SEVERE',\n",
       " 'ACUTE',\n",
       " 'RESPIRATORY',\n",
       " 'SYNDROME',\n",
       " 'BLOOD',\n",
       " 'SERVICES',\n",
       " 'BLOOD',\n",
       " 'HONG',\n",
       " 'KONG']"
      ]
     },
     "execution_count": 29,
     "metadata": {},
     "output_type": "execute_result"
    }
   ],
   "source": [
    "all_title_words = sum(data['processed_title'], [])\n",
    "all_title_words[:25]"
   ]
  },
  {
   "cell_type": "code",
   "execution_count": 30,
   "metadata": {},
   "outputs": [
    {
     "data": {
      "text/plain": [
       "[('PANDEMIC', 4028),\n",
       " ('CORONAVIRUS', 3666),\n",
       " ('PATIENTS', 3503),\n",
       " ('DISEASE', 2667),\n",
       " ('2019', 1948),\n",
       " ('INFECTION', 1757),\n",
       " ('CLINICAL', 1491),\n",
       " ('CARE', 1226),\n",
       " ('NOVEL', 1104),\n",
       " ('REVIEW', 1069),\n",
       " ('MANAGEMENT', 1042),\n",
       " ('STUDY', 1017),\n",
       " ('OUTBREAK', 985),\n",
       " ('TREATMENT', 972),\n",
       " ('HEALTH', 956),\n",
       " ('SEVERE', 922),\n",
       " ('ACUTE', 873),\n",
       " ('CHINA', 841),\n",
       " ('RESPIRATORY', 804),\n",
       " ('CASE', 789)]"
      ]
     },
     "execution_count": 30,
     "metadata": {},
     "output_type": "execute_result"
    }
   ],
   "source": [
    "# Get most common words\n",
    "freq_dist = nltk.FreqDist(all_title_words)\n",
    "word_features = list(freq_dist)[:2000]\n",
    "freq_dist.most_common(20)"
   ]
  },
  {
   "cell_type": "code",
   "execution_count": 31,
   "metadata": {},
   "outputs": [
    {
     "data": {
      "text/plain": [
       "(23038, 13758)"
      ]
     },
     "execution_count": 31,
     "metadata": {},
     "output_type": "execute_result"
    }
   ],
   "source": [
    "#TF-IDF\n",
    "from sklearn.feature_extraction.text import TfidfVectorizer\n",
    "\n",
    "def identity_tokenizer(text):\n",
    "    return text\n",
    "\n",
    "tfidf = TfidfVectorizer(tokenizer=identity_tokenizer, lowercase=False)    \n",
    "X = tfidf.fit_transform(data.processed_title)\n",
    "\n",
    "X.shape"
   ]
  },
  {
   "cell_type": "code",
   "execution_count": null,
   "metadata": {},
   "outputs": [],
   "source": [
    "# Bag of Words\n",
    "# Word2Vec"
   ]
  },
  {
   "cell_type": "markdown",
   "metadata": {},
   "source": [
    "## Model"
   ]
  },
  {
   "cell_type": "code",
   "execution_count": 35,
   "metadata": {},
   "outputs": [
    {
     "name": "stdout",
     "output_type": "stream",
     "text": [
      "ALGOTIRHM: Linear SVC\n",
      "Test accuracy is 0.6178819444444444\n",
      "F1 Score is 0.7610759493670886\n",
      "\n",
      "ALGOTIRHM: Naive Bayes\n",
      "Test accuracy is 0.5420138888888889\n",
      "F1 Score is 0.6792854801704359\n",
      "\n",
      "ALGOTIRHM: Logistic Regression\n",
      "Test accuracy is 0.6001736111111111\n",
      "F1 Score is 0.7406950759035217\n",
      "\n",
      "ALGOTIRHM: RandomForestClassifier\n",
      "Test accuracy is 0.5921875\n",
      "F1 Score is 0.7349615558570782\n",
      "\n",
      "ALGOTIRHM: AdaBoostClassifier\n",
      "Test accuracy is 0.4782986111111111\n",
      "F1 Score is 0.6536366549182954\n",
      "\n",
      "ALGOTIRHM: DecisionTreeClassifier\n",
      "Test accuracy is 0.45677083333333335\n",
      "F1 Score is 0.6669378898833741\n",
      "\n"
     ]
    }
   ],
   "source": [
    "from sklearn.multiclass import OneVsRestClassifier\n",
    "from sklearn.linear_model import LogisticRegression\n",
    "from sklearn.svm import LinearSVC\n",
    "from sklearn.ensemble import RandomForestClassifier, AdaBoostClassifier\n",
    "from sklearn.naive_bayes import MultinomialNB\n",
    "from sklearn.neural_network import MLPClassifier\n",
    "from sklearn.neighbors import KNeighborsClassifier\n",
    "from sklearn.tree import DecisionTreeClassifier\n",
    "\n",
    "from sklearn.model_selection import train_test_split\n",
    "from sklearn.metrics import accuracy_score\n",
    "from sklearn.metrics import f1_score\n",
    "\n",
    "X_train, X_test, y_train, y_test = train_test_split(X, data[onehot.columns], test_size=0.25, random_state=42)\n",
    "\n",
    "algos = {\n",
    "    'Linear SVC': LinearSVC(random_state=0),\n",
    "    'Naive Bayes': MultinomialNB(fit_prior=True, class_prior=None),\n",
    "    'Logistic Regression': LogisticRegression(solver='sag'),\n",
    "    \"RandomForestClassifier\": RandomForestClassifier(),\n",
    "    \"AdaBoostClassifier\": AdaBoostClassifier(),\n",
    "#     \"MLPClassifier\": MLPClassifier(max_iter=1000),\n",
    "#     \"KNeighborsClassifier\": KNeighborsClassifier(),\n",
    "    \"DecisionTreeClassifier\": DecisionTreeClassifier()\n",
    "};\n",
    "\n",
    "for algo in algos:\n",
    "    print('ALGOTIRHM: {}'.format(algo))\n",
    "    \n",
    "    model = OneVsRestClassifier(algos[algo]).fit(X_train, y_train)\n",
    "    prediction = model.predict(X_test)\n",
    "    accuracy = accuracy_score(y_test, prediction)\n",
    "    f1 = f1_score(y_test, prediction, average = 'micro')\n",
    "    \n",
    "    print('Test accuracy is {}'.format(accuracy))\n",
    "    print('F1 Score is {}'.format(f1))\n",
    "    print()\n",
    "\n",
    "\n",
    "# for algo in algos:\n",
    "#     print('ALGORITHM: {}'.format(algo))\n",
    "#     for category in onehot.columns:\n",
    "#         y_train = data2[category][:train_size]\n",
    "#         y_test = data2[category][train_size:train_size+test_size]\n",
    "\n",
    "#         model = OneVsRestClassifier(algos[algo]).fit(X_train, y_train)\n",
    "#         prediction = model.predict(X_test)\n",
    "\n",
    "#         print('... Processing {}'.format(category))\n",
    "#         print('Test accuracy is {}'.format(accuracy_score(y_test, prediction)))\n",
    "#         print('F1 Score is {}'.format(f1_score(y_test, prediction, average='micro')))\n",
    "#     print()"
   ]
  }
 ],
 "metadata": {
  "kernelspec": {
   "display_name": "Python 3",
   "language": "python",
   "name": "python3"
  },
  "language_info": {
   "codemirror_mode": {
    "name": "ipython",
    "version": 3
   },
   "file_extension": ".py",
   "mimetype": "text/x-python",
   "name": "python",
   "nbconvert_exporter": "python",
   "pygments_lexer": "ipython3",
   "version": "3.8.3"
  }
 },
 "nbformat": 4,
 "nbformat_minor": 4
}
